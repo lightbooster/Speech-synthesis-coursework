{
  "nbformat": 4,
  "nbformat_minor": 0,
  "metadata": {
    "colab": {
      "name": "Normalization Layers.ipynb",
      "provenance": []
    },
    "kernelspec": {
      "name": "python3",
      "display_name": "Python 3"
    },
    "language_info": {
      "name": "python"
    }
  },
  "cells": [
    {
      "cell_type": "markdown",
      "metadata": {
        "id": "30JiZZxLe8Vy"
      },
      "source": [
        "# Normalization Layers"
      ]
    },
    {
      "cell_type": "markdown",
      "metadata": {
        "id": "I7MDUBNlfAG5"
      },
      "source": [
        "\n",
        "Typically the normalization is performed by calculating the mean and the standard deviation of a subgroup in your input tensor. It is also possible to apply a scale and an offset factor to this as well.\n",
        "\n",
        "\n",
        "$y_{i} = \\frac{\\gamma ( x_{i} - \\mu )}{\\sigma }+ \\beta$\n",
        "\n",
        "$ y$ : Output\n",
        "\n",
        "$x$ : Input\n",
        "\n",
        "$\\gamma$ : Scale factor\n",
        "\n",
        "$\\mu$: mean\n",
        "\n",
        "$\\sigma$: standard deviation\n",
        "\n",
        "$\\beta$: Offset factor\n",
        "\n",
        "\n",
        "The following image demonstrates the difference between these techniques. Each subplot shows an input tensor, with N as the batch axis, C as the channel axis, and (H, W)\n",
        "as the spatial axes (Height and Width of a picture for example). The pixels in blue are normalized by the same mean and variance, computed by aggregating the values of these pixels.\n",
        "\n",
        "![](https://github.com/shaohua0116/Group-Normalization-Tensorflow/raw/master/figure/gn.png)\n",
        "\n",
        "Source: (https://arxiv.org/pdf/1803.08494.pdf)\n",
        "\n",
        "The weights gamma and beta are trainable in all normalization layers to compensate for the possible lost of representational ability. You can activate these factors by setting the `center` or the `scale` flag to `True`. Of course you can use `initializers`, `constraints` and `regularizer` for `beta` and `gamma` to tune these values during the training process. "
      ]
    },
    {
      "cell_type": "markdown",
      "metadata": {
        "id": "urS1Ga4wfDbR"
      },
      "source": [
        "## Setup"
      ]
    },
    {
      "cell_type": "markdown",
      "metadata": {
        "id": "fab42OCcfJ7p"
      },
      "source": [
        "### Install Tensorflow"
      ]
    },
    {
      "cell_type": "code",
      "metadata": {
        "colab": {
          "base_uri": "https://localhost:8080/"
        },
        "id": "JrR_rEFKfFs5",
        "outputId": "258fbb23-caf2-4956-c785-f41e7c06603f"
      },
      "source": [
        "!pip install -U tensorflow-addons"
      ],
      "execution_count": 1,
      "outputs": [
        {
          "output_type": "stream",
          "text": [
            "Collecting tensorflow-addons\n",
            "\u001b[?25l  Downloading https://files.pythonhosted.org/packages/66/4b/e893d194e626c24b3df2253066aa418f46a432fdb68250cde14bf9bb0700/tensorflow_addons-0.13.0-cp37-cp37m-manylinux2010_x86_64.whl (679kB)\n",
            "\r\u001b[K     |▌                               | 10kB 10.7MB/s eta 0:00:01\r\u001b[K     |█                               | 20kB 14.8MB/s eta 0:00:01\r\u001b[K     |█▌                              | 30kB 12.0MB/s eta 0:00:01\r\u001b[K     |██                              | 40kB 9.0MB/s eta 0:00:01\r\u001b[K     |██▍                             | 51kB 5.7MB/s eta 0:00:01\r\u001b[K     |███                             | 61kB 5.3MB/s eta 0:00:01\r\u001b[K     |███▍                            | 71kB 5.9MB/s eta 0:00:01\r\u001b[K     |███▉                            | 81kB 6.4MB/s eta 0:00:01\r\u001b[K     |████▍                           | 92kB 6.8MB/s eta 0:00:01\r\u001b[K     |████▉                           | 102kB 7.0MB/s eta 0:00:01\r\u001b[K     |█████▎                          | 112kB 7.0MB/s eta 0:00:01\r\u001b[K     |█████▉                          | 122kB 7.0MB/s eta 0:00:01\r\u001b[K     |██████▎                         | 133kB 7.0MB/s eta 0:00:01\r\u001b[K     |██████▊                         | 143kB 7.0MB/s eta 0:00:01\r\u001b[K     |███████▎                        | 153kB 7.0MB/s eta 0:00:01\r\u001b[K     |███████▊                        | 163kB 7.0MB/s eta 0:00:01\r\u001b[K     |████████▏                       | 174kB 7.0MB/s eta 0:00:01\r\u001b[K     |████████▊                       | 184kB 7.0MB/s eta 0:00:01\r\u001b[K     |█████████▏                      | 194kB 7.0MB/s eta 0:00:01\r\u001b[K     |█████████▋                      | 204kB 7.0MB/s eta 0:00:01\r\u001b[K     |██████████▏                     | 215kB 7.0MB/s eta 0:00:01\r\u001b[K     |██████████▋                     | 225kB 7.0MB/s eta 0:00:01\r\u001b[K     |███████████                     | 235kB 7.0MB/s eta 0:00:01\r\u001b[K     |███████████▋                    | 245kB 7.0MB/s eta 0:00:01\r\u001b[K     |████████████                    | 256kB 7.0MB/s eta 0:00:01\r\u001b[K     |████████████▌                   | 266kB 7.0MB/s eta 0:00:01\r\u001b[K     |█████████████                   | 276kB 7.0MB/s eta 0:00:01\r\u001b[K     |█████████████▌                  | 286kB 7.0MB/s eta 0:00:01\r\u001b[K     |██████████████                  | 296kB 7.0MB/s eta 0:00:01\r\u001b[K     |██████████████▌                 | 307kB 7.0MB/s eta 0:00:01\r\u001b[K     |███████████████                 | 317kB 7.0MB/s eta 0:00:01\r\u001b[K     |███████████████▍                | 327kB 7.0MB/s eta 0:00:01\r\u001b[K     |████████████████                | 337kB 7.0MB/s eta 0:00:01\r\u001b[K     |████████████████▍               | 348kB 7.0MB/s eta 0:00:01\r\u001b[K     |████████████████▉               | 358kB 7.0MB/s eta 0:00:01\r\u001b[K     |█████████████████▍              | 368kB 7.0MB/s eta 0:00:01\r\u001b[K     |█████████████████▉              | 378kB 7.0MB/s eta 0:00:01\r\u001b[K     |██████████████████▎             | 389kB 7.0MB/s eta 0:00:01\r\u001b[K     |██████████████████▉             | 399kB 7.0MB/s eta 0:00:01\r\u001b[K     |███████████████████▎            | 409kB 7.0MB/s eta 0:00:01\r\u001b[K     |███████████████████▊            | 419kB 7.0MB/s eta 0:00:01\r\u001b[K     |████████████████████▎           | 430kB 7.0MB/s eta 0:00:01\r\u001b[K     |████████████████████▊           | 440kB 7.0MB/s eta 0:00:01\r\u001b[K     |█████████████████████▏          | 450kB 7.0MB/s eta 0:00:01\r\u001b[K     |█████████████████████▊          | 460kB 7.0MB/s eta 0:00:01\r\u001b[K     |██████████████████████▏         | 471kB 7.0MB/s eta 0:00:01\r\u001b[K     |██████████████████████▋         | 481kB 7.0MB/s eta 0:00:01\r\u001b[K     |███████████████████████▏        | 491kB 7.0MB/s eta 0:00:01\r\u001b[K     |███████████████████████▋        | 501kB 7.0MB/s eta 0:00:01\r\u001b[K     |████████████████████████        | 512kB 7.0MB/s eta 0:00:01\r\u001b[K     |████████████████████████▋       | 522kB 7.0MB/s eta 0:00:01\r\u001b[K     |█████████████████████████       | 532kB 7.0MB/s eta 0:00:01\r\u001b[K     |█████████████████████████▌      | 542kB 7.0MB/s eta 0:00:01\r\u001b[K     |██████████████████████████      | 552kB 7.0MB/s eta 0:00:01\r\u001b[K     |██████████████████████████▌     | 563kB 7.0MB/s eta 0:00:01\r\u001b[K     |███████████████████████████     | 573kB 7.0MB/s eta 0:00:01\r\u001b[K     |███████████████████████████▌    | 583kB 7.0MB/s eta 0:00:01\r\u001b[K     |████████████████████████████    | 593kB 7.0MB/s eta 0:00:01\r\u001b[K     |████████████████████████████▍   | 604kB 7.0MB/s eta 0:00:01\r\u001b[K     |█████████████████████████████   | 614kB 7.0MB/s eta 0:00:01\r\u001b[K     |█████████████████████████████▍  | 624kB 7.0MB/s eta 0:00:01\r\u001b[K     |█████████████████████████████▉  | 634kB 7.0MB/s eta 0:00:01\r\u001b[K     |██████████████████████████████▍ | 645kB 7.0MB/s eta 0:00:01\r\u001b[K     |██████████████████████████████▉ | 655kB 7.0MB/s eta 0:00:01\r\u001b[K     |███████████████████████████████▎| 665kB 7.0MB/s eta 0:00:01\r\u001b[K     |███████████████████████████████▉| 675kB 7.0MB/s eta 0:00:01\r\u001b[K     |████████████████████████████████| 686kB 7.0MB/s \n",
            "\u001b[?25hRequirement already satisfied, skipping upgrade: typeguard>=2.7 in /usr/local/lib/python3.7/dist-packages (from tensorflow-addons) (2.7.1)\n",
            "Installing collected packages: tensorflow-addons\n",
            "Successfully installed tensorflow-addons-0.13.0\n"
          ],
          "name": "stdout"
        }
      ]
    },
    {
      "cell_type": "code",
      "metadata": {
        "id": "1Ly33WblfIX5"
      },
      "source": [
        "import tensorflow as tf\n",
        "import tensorflow_addons as tfa"
      ],
      "execution_count": 3,
      "outputs": []
    },
    {
      "cell_type": "markdown",
      "metadata": {
        "id": "a5oQAZNJfZE6"
      },
      "source": [
        "## Preparing Dataset"
      ]
    },
    {
      "cell_type": "code",
      "metadata": {
        "colab": {
          "base_uri": "https://localhost:8080/"
        },
        "id": "DQEUdfl1fb1i",
        "outputId": "1c19d043-dbf0-4ecc-a501-b177a916a96c"
      },
      "source": [
        "mnist = tf.keras.datasets.mnist\n",
        "\n",
        "(x_train, y_train),(x_test, y_test) = mnist.load_data()\n",
        "x_train, x_test = x_train / 255.0, x_test / 255.0"
      ],
      "execution_count": 4,
      "outputs": [
        {
          "output_type": "stream",
          "text": [
            "Downloading data from https://storage.googleapis.com/tensorflow/tf-keras-datasets/mnist.npz\n",
            "11493376/11490434 [==============================] - 0s 0us/step\n"
          ],
          "name": "stdout"
        }
      ]
    },
    {
      "cell_type": "markdown",
      "metadata": {
        "id": "mc5Eyf9pff1S"
      },
      "source": [
        "## Group Normalization"
      ]
    },
    {
      "cell_type": "markdown",
      "metadata": {
        "id": "sKHa42TBfn_6"
      },
      "source": [
        "### Intro\n",
        "Group Normalization(GN) divides the channels of your inputs into smaller sub groups and normalizes these values based on their mean and variance. Since GN works on a single example this technique is batchsize independent.\n",
        "\n",
        "GN experimentally scored closed to batch normalization in image classification tasks. It can be beneficial to use GN instead of Batch Normalization in case your overall batch_size is low, which would lead to bad performance of batch normalization\n",
        "\n",
        "Example\n",
        "Splitting 10 channels after a Conv2D layer into 5 subgroups in a standard \"channels last\" setting:"
      ]
    },
    {
      "cell_type": "code",
      "metadata": {
        "colab": {
          "base_uri": "https://localhost:8080/"
        },
        "id": "naw7CqFsfkAa",
        "outputId": "909347a8-5e99-481c-d3c6-7ab74ba324c1"
      },
      "source": [
        "model = tf.keras.models.Sequential([\n",
        "  # Reshape into \"channels last\" setup.\n",
        "  tf.keras.layers.Reshape((28,28,1), input_shape=(28,28)),\n",
        "  tf.keras.layers.Conv2D(filters=10, kernel_size=(3,3),data_format=\"channels_last\"),\n",
        "  # Groupnorm Layer\n",
        "  tfa.layers.GroupNormalization(groups=5, axis=3),\n",
        "  tf.keras.layers.Flatten(),\n",
        "  tf.keras.layers.Dense(128, activation='relu'),\n",
        "  tf.keras.layers.Dropout(0.2),\n",
        "  tf.keras.layers.Dense(10, activation='softmax')\n",
        "])\n",
        "\n",
        "model.compile(optimizer='adam',\n",
        "              loss='sparse_categorical_crossentropy',\n",
        "              metrics=['accuracy'])\n",
        "model.fit(x_test, y_test)"
      ],
      "execution_count": 5,
      "outputs": [
        {
          "output_type": "stream",
          "text": [
            "313/313 [==============================] - 10s 28ms/step - loss: 0.4823 - accuracy: 0.8581\n"
          ],
          "name": "stdout"
        },
        {
          "output_type": "execute_result",
          "data": {
            "text/plain": [
              "<tensorflow.python.keras.callbacks.History at 0x7f4627400c10>"
            ]
          },
          "metadata": {
            "tags": []
          },
          "execution_count": 5
        }
      ]
    },
    {
      "cell_type": "markdown",
      "metadata": {
        "id": "V1nHp1ajfyGx"
      },
      "source": [
        "## Layer Normalization"
      ]
    },
    {
      "cell_type": "markdown",
      "metadata": {
        "id": "Q4l42pXAf1nB"
      },
      "source": [
        "### Intro\n",
        "Layer Normalization is special case of group normalization where the group size is 1. The mean and standard deviation is calculated from all activations of a single sample.\n",
        "\n",
        "Experimental results show that Layer normalization is well suited for Recurrent Neural Networks, since it works batchsize independt.\n",
        "\n",
        "Example\n",
        "Applying Layernormalization after a Conv2D Layer and using a scale and offset factor."
      ]
    },
    {
      "cell_type": "code",
      "metadata": {
        "colab": {
          "base_uri": "https://localhost:8080/"
        },
        "id": "EanvMqCif5J6",
        "outputId": "9a364871-a51e-4be6-c875-d66a19c932d8"
      },
      "source": [
        "model = tf.keras.models.Sequential([\n",
        "  # Reshape into \"channels last\" setup.\n",
        "  tf.keras.layers.Reshape((28,28,1), input_shape=(28,28)),\n",
        "  tf.keras.layers.Conv2D(filters=10, kernel_size=(3,3),data_format=\"channels_last\"),\n",
        "  # LayerNorm Layer\n",
        "  tf.keras.layers.LayerNormalization(axis=3 , center=True , scale=True),\n",
        "  tf.keras.layers.Flatten(),\n",
        "  tf.keras.layers.Dense(128, activation='relu'),\n",
        "  tf.keras.layers.Dropout(0.2),\n",
        "  tf.keras.layers.Dense(10, activation='softmax')\n",
        "])\n",
        "\n",
        "model.compile(optimizer='adam',\n",
        "              loss='sparse_categorical_crossentropy',\n",
        "              metrics=['accuracy'])\n",
        "model.fit(x_test, y_test)"
      ],
      "execution_count": 6,
      "outputs": [
        {
          "output_type": "stream",
          "text": [
            "313/313 [==============================] - 10s 29ms/step - loss: 0.4045 - accuracy: 0.8767\n"
          ],
          "name": "stdout"
        },
        {
          "output_type": "execute_result",
          "data": {
            "text/plain": [
              "<tensorflow.python.keras.callbacks.History at 0x7f4624b9c9d0>"
            ]
          },
          "metadata": {
            "tags": []
          },
          "execution_count": 6
        }
      ]
    },
    {
      "cell_type": "markdown",
      "metadata": {
        "id": "CX9qmT0VgAwp"
      },
      "source": [
        "## Instance Normalization\n"
      ]
    },
    {
      "cell_type": "markdown",
      "metadata": {
        "id": "ExPG5aDggGUa"
      },
      "source": [
        "### Intro\n",
        "Instance Normalization is special case of group normalization where the group size is the same size as the channel size (or the axis size).\n",
        "\n",
        "Experimental results show that instance normalization performs well on style transfer when replacing batch normalization. Recently, instance normalization has also been used as a replacement for batch normalization in GANs.\n",
        "\n",
        "Example\n",
        "Applying InstanceNormalization after a Conv2D Layer and using a uniformed initialized scale and offset factor."
      ]
    },
    {
      "cell_type": "code",
      "metadata": {
        "colab": {
          "base_uri": "https://localhost:8080/"
        },
        "id": "7nip8sqXgKAi",
        "outputId": "88e6978b-e8be-4155-9f14-cf9d473946ec"
      },
      "source": [
        "model = tf.keras.models.Sequential([\n",
        "  # Reshape into \"channels last\" setup.\n",
        "  tf.keras.layers.Reshape((28,28,1), input_shape=(28,28)),\n",
        "  tf.keras.layers.Conv2D(filters=10, kernel_size=(3,3),data_format=\"channels_last\"),\n",
        "  # LayerNorm Layer\n",
        "  tfa.layers.InstanceNormalization(axis=3, \n",
        "                                   center=True, \n",
        "                                   scale=True,\n",
        "                                   beta_initializer=\"random_uniform\",\n",
        "                                   gamma_initializer=\"random_uniform\"),\n",
        "  tf.keras.layers.Flatten(),\n",
        "  tf.keras.layers.Dense(128, activation='relu'),\n",
        "  tf.keras.layers.Dropout(0.2),\n",
        "  tf.keras.layers.Dense(10, activation='softmax')\n",
        "])\n",
        "\n",
        "model.compile(optimizer='adam',\n",
        "              loss='sparse_categorical_crossentropy',\n",
        "              metrics=['accuracy'])\n",
        "model.fit(x_test, y_test)"
      ],
      "execution_count": 7,
      "outputs": [
        {
          "output_type": "stream",
          "text": [
            "313/313 [==============================] - 8s 23ms/step - loss: 0.4812 - accuracy: 0.8565\n"
          ],
          "name": "stdout"
        },
        {
          "output_type": "execute_result",
          "data": {
            "text/plain": [
              "<tensorflow.python.keras.callbacks.History at 0x7f46241e4d90>"
            ]
          },
          "metadata": {
            "tags": []
          },
          "execution_count": 7
        }
      ]
    }
  ]
}