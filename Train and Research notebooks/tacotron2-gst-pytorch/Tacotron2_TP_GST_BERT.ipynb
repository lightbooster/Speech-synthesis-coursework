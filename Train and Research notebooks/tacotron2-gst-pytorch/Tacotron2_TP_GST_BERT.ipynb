{
  "nbformat": 4,
  "nbformat_minor": 0,
  "metadata": {
    "colab": {
      "name": "Tacotron2_TP_GST_BERT (2).ipynb",
      "provenance": [],
      "collapsed_sections": [
        "O4NUGxGwRI8q"
      ],
      "toc_visible": true
    },
    "kernelspec": {
      "name": "python3",
      "display_name": "Python 3"
    },
    "language_info": {
      "name": "python"
    },
    "accelerator": "GPU",
    "widgets": {
      "application/vnd.jupyter.widget-state+json": {
        "5478c26ee2fe4332b715f9a8b2d86af6": {
          "model_module": "@jupyter-widgets/controls",
          "model_name": "HBoxModel",
          "state": {
            "_view_name": "HBoxView",
            "_dom_classes": [],
            "_model_name": "HBoxModel",
            "_view_module": "@jupyter-widgets/controls",
            "_model_module_version": "1.5.0",
            "_view_count": null,
            "_view_module_version": "1.5.0",
            "box_style": "",
            "layout": "IPY_MODEL_c50aa060655f44288b05c936baab7e51",
            "_model_module": "@jupyter-widgets/controls",
            "children": [
              "IPY_MODEL_a814bc57006e42a0b464340c624b0750",
              "IPY_MODEL_3ab2a07010344a0cb81b9b87b9496055"
            ]
          }
        },
        "c50aa060655f44288b05c936baab7e51": {
          "model_module": "@jupyter-widgets/base",
          "model_name": "LayoutModel",
          "state": {
            "_view_name": "LayoutView",
            "grid_template_rows": null,
            "right": null,
            "justify_content": null,
            "_view_module": "@jupyter-widgets/base",
            "overflow": null,
            "_model_module_version": "1.2.0",
            "_view_count": null,
            "flex_flow": null,
            "width": null,
            "min_width": null,
            "border": null,
            "align_items": null,
            "bottom": null,
            "_model_module": "@jupyter-widgets/base",
            "top": null,
            "grid_column": null,
            "overflow_y": null,
            "overflow_x": null,
            "grid_auto_flow": null,
            "grid_area": null,
            "grid_template_columns": null,
            "flex": null,
            "_model_name": "LayoutModel",
            "justify_items": null,
            "grid_row": null,
            "max_height": null,
            "align_content": null,
            "visibility": null,
            "align_self": null,
            "height": null,
            "min_height": null,
            "padding": null,
            "grid_auto_rows": null,
            "grid_gap": null,
            "max_width": null,
            "order": null,
            "_view_module_version": "1.2.0",
            "grid_template_areas": null,
            "object_position": null,
            "object_fit": null,
            "grid_auto_columns": null,
            "margin": null,
            "display": null,
            "left": null
          }
        },
        "a814bc57006e42a0b464340c624b0750": {
          "model_module": "@jupyter-widgets/controls",
          "model_name": "FloatProgressModel",
          "state": {
            "_view_name": "ProgressView",
            "style": "IPY_MODEL_c77af66463804314bb0c85e6381d25aa",
            "_dom_classes": [],
            "description": "100%",
            "_model_name": "FloatProgressModel",
            "bar_style": "success",
            "max": 1073366784,
            "_view_module": "@jupyter-widgets/controls",
            "_model_module_version": "1.5.0",
            "value": 1073366784,
            "_view_count": null,
            "_view_module_version": "1.5.0",
            "orientation": "horizontal",
            "min": 0,
            "description_tooltip": null,
            "_model_module": "@jupyter-widgets/controls",
            "layout": "IPY_MODEL_3741359fb611429ab69a8e2c16515fd5"
          }
        },
        "3ab2a07010344a0cb81b9b87b9496055": {
          "model_module": "@jupyter-widgets/controls",
          "model_name": "HTMLModel",
          "state": {
            "_view_name": "HTMLView",
            "style": "IPY_MODEL_df23fadcfb494e5ead21546ba721a643",
            "_dom_classes": [],
            "description": "",
            "_model_name": "HTMLModel",
            "placeholder": "​",
            "_view_module": "@jupyter-widgets/controls",
            "_model_module_version": "1.5.0",
            "value": " 1.00G/1.00G [00:23&lt;00:00, 45.9MB/s]",
            "_view_count": null,
            "_view_module_version": "1.5.0",
            "description_tooltip": null,
            "_model_module": "@jupyter-widgets/controls",
            "layout": "IPY_MODEL_9ffd6da192194a268c0779af38307a64"
          }
        },
        "c77af66463804314bb0c85e6381d25aa": {
          "model_module": "@jupyter-widgets/controls",
          "model_name": "ProgressStyleModel",
          "state": {
            "_view_name": "StyleView",
            "_model_name": "ProgressStyleModel",
            "description_width": "initial",
            "_view_module": "@jupyter-widgets/base",
            "_model_module_version": "1.5.0",
            "_view_count": null,
            "_view_module_version": "1.2.0",
            "bar_color": null,
            "_model_module": "@jupyter-widgets/controls"
          }
        },
        "3741359fb611429ab69a8e2c16515fd5": {
          "model_module": "@jupyter-widgets/base",
          "model_name": "LayoutModel",
          "state": {
            "_view_name": "LayoutView",
            "grid_template_rows": null,
            "right": null,
            "justify_content": null,
            "_view_module": "@jupyter-widgets/base",
            "overflow": null,
            "_model_module_version": "1.2.0",
            "_view_count": null,
            "flex_flow": null,
            "width": null,
            "min_width": null,
            "border": null,
            "align_items": null,
            "bottom": null,
            "_model_module": "@jupyter-widgets/base",
            "top": null,
            "grid_column": null,
            "overflow_y": null,
            "overflow_x": null,
            "grid_auto_flow": null,
            "grid_area": null,
            "grid_template_columns": null,
            "flex": null,
            "_model_name": "LayoutModel",
            "justify_items": null,
            "grid_row": null,
            "max_height": null,
            "align_content": null,
            "visibility": null,
            "align_self": null,
            "height": null,
            "min_height": null,
            "padding": null,
            "grid_auto_rows": null,
            "grid_gap": null,
            "max_width": null,
            "order": null,
            "_view_module_version": "1.2.0",
            "grid_template_areas": null,
            "object_position": null,
            "object_fit": null,
            "grid_auto_columns": null,
            "margin": null,
            "display": null,
            "left": null
          }
        },
        "df23fadcfb494e5ead21546ba721a643": {
          "model_module": "@jupyter-widgets/controls",
          "model_name": "DescriptionStyleModel",
          "state": {
            "_view_name": "StyleView",
            "_model_name": "DescriptionStyleModel",
            "description_width": "",
            "_view_module": "@jupyter-widgets/base",
            "_model_module_version": "1.5.0",
            "_view_count": null,
            "_view_module_version": "1.2.0",
            "_model_module": "@jupyter-widgets/controls"
          }
        },
        "9ffd6da192194a268c0779af38307a64": {
          "model_module": "@jupyter-widgets/base",
          "model_name": "LayoutModel",
          "state": {
            "_view_name": "LayoutView",
            "grid_template_rows": null,
            "right": null,
            "justify_content": null,
            "_view_module": "@jupyter-widgets/base",
            "overflow": null,
            "_model_module_version": "1.2.0",
            "_view_count": null,
            "flex_flow": null,
            "width": null,
            "min_width": null,
            "border": null,
            "align_items": null,
            "bottom": null,
            "_model_module": "@jupyter-widgets/base",
            "top": null,
            "grid_column": null,
            "overflow_y": null,
            "overflow_x": null,
            "grid_auto_flow": null,
            "grid_area": null,
            "grid_template_columns": null,
            "flex": null,
            "_model_name": "LayoutModel",
            "justify_items": null,
            "grid_row": null,
            "max_height": null,
            "align_content": null,
            "visibility": null,
            "align_self": null,
            "height": null,
            "min_height": null,
            "padding": null,
            "grid_auto_rows": null,
            "grid_gap": null,
            "max_width": null,
            "order": null,
            "_view_module_version": "1.2.0",
            "grid_template_areas": null,
            "object_position": null,
            "object_fit": null,
            "grid_auto_columns": null,
            "margin": null,
            "display": null,
            "left": null
          }
        }
      }
    }
  },
  "cells": [
    {
      "cell_type": "markdown",
      "metadata": {
        "id": "oROxV56Ojdpo"
      },
      "source": [
        "Copyright ©  2021  MIT License | Sapozhnikov Andrey Mikhailovich  \n",
        "* * *\n",
        "**Tacotron2 + TP-GST + BERT**  \n",
        "this notebook shows train and inference usage of realization  \n",
        "[Text-predicting Global Style Tokens for Tacotron2](https://arxiv.org/pdf/1808.01410.pdf) with [BERT](https://m.habr.com/ru/company/sberdevices/blog/548812/)  \n",
        "\n",
        "**Model repository**: https://github.com/lightbooster/mellotron/tree/tp-gst-bert"
      ]
    },
    {
      "cell_type": "markdown",
      "metadata": {
        "id": "hMZaONSEcj6E"
      },
      "source": [
        "# Tacotron2 TP-GST"
      ]
    },
    {
      "cell_type": "markdown",
      "metadata": {
        "id": "3wED9pnYqD7l"
      },
      "source": [
        "## Prepair for training"
      ]
    },
    {
      "cell_type": "markdown",
      "metadata": {
        "id": "9GlQpcbbiCEq"
      },
      "source": [
        "Mount Google Drive to store all checkpoints and datasets"
      ]
    },
    {
      "cell_type": "code",
      "metadata": {
        "id": "eG7nvAsQkZvA",
        "colab": {
          "base_uri": "https://localhost:8080/"
        },
        "outputId": "2873eb61-125f-490e-96dd-d95c99cc0812"
      },
      "source": [
        "from google.colab import drive\n",
        "drive.mount('/content/drive')"
      ],
      "execution_count": 2,
      "outputs": [
        {
          "output_type": "stream",
          "text": [
            "Mounted at /content/drive\n"
          ],
          "name": "stdout"
        }
      ]
    },
    {
      "cell_type": "markdown",
      "metadata": {
        "id": "nZkZbi9NqMgg"
      },
      "source": [
        "### Download Dataset"
      ]
    },
    {
      "cell_type": "markdown",
      "metadata": {
        "id": "mx6TC90xd61S"
      },
      "source": [
        "Download M-AILABS Russian dataset"
      ]
    },
    {
      "cell_type": "code",
      "metadata": {
        "id": "Zl8yezt3eFgO"
      },
      "source": [
        "# %cd /content/drive/MyDrive/\n",
        "# !wget http://www.caito.de/data/Training/stt_tts/ru_RU.tgz\n",
        "# !tar -zxvf ru_RU.tgz\n",
        "# # Rename directory\n",
        "# !mv ru_RU M_AILABS_Ru"
      ],
      "execution_count": null,
      "outputs": []
    },
    {
      "cell_type": "markdown",
      "metadata": {
        "id": "O4NUGxGwRI8q"
      },
      "source": [
        "### Preprocess Dataset\n"
      ]
    },
    {
      "cell_type": "code",
      "metadata": {
        "id": "GWOWZHleVY8C"
      },
      "source": [
        "import random"
      ],
      "execution_count": null,
      "outputs": []
    },
    {
      "cell_type": "code",
      "metadata": {
        "id": "qqU03n2uLhG7"
      },
      "source": [
        "\"\"\"\n",
        "Move all wav file to the common folder\n",
        "Concat all text files into one\n",
        "\"\"\"\n",
        "def refactor_M_AILABS(sex='female', speaker_index=0\n",
        "                      , dataset_dir=\"/content/drive/MyDrive/M_AILABS_Ru/\"\n",
        "                      , out_dir=\"/content/drive/MyDrive/M_AILABS_Ru/\"\n",
        "                      , move_files=True\n",
        "                      ):\n",
        "  print(\" *** Start refactoring... ***\")\n",
        "  path = f\"{dataset_dit}{''if dataset_dit[-1] == '/' else '/'}by_book/{sex}\"\n",
        "  %cd $path\n",
        "  speakers = !ls\n",
        "  books_path = f\"{path}/{speakers[speaker_index]}\"\n",
        "  %cd $books_path\n",
        "  books_folders = !ls -d */ | cut -f1 -d'/'\n",
        "  path = f\"{out_dir}{''if out_dir[-1] == '/' else '/'}\"\n",
        "  %cd $path\n",
        "  !mkdir wavs\n",
        "  wavs_path = f\"{path}wavs/\"\n",
        "  !touch mlbs_audio_text.txt\n",
        "  for book in books_folders:\n",
        "    cur_wavs_path = f\"{books_path}/{book}/wavs/*\"\n",
        "    cur_text_path = f\"{books_path}/{book}/metadata.csv\"\n",
        "    !cat $cur_text_path >> mlbs_audio_text.txt\n",
        "    if move_files:\n",
        "      !mv -v $cur_wavs_path $wavs_path\n",
        "  print(\" *** Refactoring finished! ***\")"
      ],
      "execution_count": null,
      "outputs": []
    },
    {
      "cell_type": "code",
      "metadata": {
        "id": "zMG7RXjQgTDE"
      },
      "source": [
        "# refactor_M_AILABS()"
      ],
      "execution_count": null,
      "outputs": []
    },
    {
      "cell_type": "code",
      "metadata": {
        "id": "WpPHm_uWJbkC"
      },
      "source": [
        "\"\"\"\n",
        "M-Ailabs dataset has 2 strings of audio trascription -\n",
        "raw and normalized\n",
        "This function chooose one, based on argument \n",
        "and add wav file full path\n",
        "\"\"\"\n",
        "def transform_m_ailabs_text(file_name=\"mlbs_audio_text.txt\",\n",
        "                            new_file_name=\"mlbs_audio_text_transformed.txt\",\n",
        "                            dataset_dir=\"/content/drive/MyDrive/M_AILABS_Ru/\",\n",
        "                            raw_data=False):\n",
        "  write_file = open(dataset_dir+new_file_name, 'w', encoding='utf-8')\n",
        "  with open(dataset_dir+file_name, 'r', encoding='utf-8') as read_file:\n",
        "    for line in read_file:\n",
        "      line = line.split('|')\n",
        "      wav_file_path = f\"{dataset_dir}wavs/{line[0]}.wav\"\n",
        "      new_line = f\"{wav_file_path}|{line[1] if raw_data else line[2]}\"\n",
        "      write_file.write(new_line)"
      ],
      "execution_count": null,
      "outputs": []
    },
    {
      "cell_type": "code",
      "metadata": {
        "id": "ssULM4fHMf1S"
      },
      "source": [
        "# transform_m_ailabs_text()"
      ],
      "execution_count": null,
      "outputs": []
    },
    {
      "cell_type": "code",
      "metadata": {
        "id": "LTgvTMpXJHvk"
      },
      "source": [
        "\"\"\"\n",
        "We should split data into 3 sets:\n",
        "'train', 'test' and 'eval'\n",
        "\"\"\"\n",
        "def split_dataset(test_size=0.05, eval_size=0.01,\n",
        "                  dataset_dir=\"/content/drive/MyDrive/M_AILABS_Ru/\",\n",
        "                  source_file_name=\"mlbs_audio_text_transformed.txt\",\n",
        "                  output_file_name_base=\"mlbs_audio_text\",\n",
        "                  shuffle=True):\n",
        "  if test_size + eval_size >= 1:\n",
        "    print(\"ERROR: (test_size + eval_size) must be less 1\")\n",
        "    return\n",
        "  \n",
        "  data = []\n",
        "  with open(f\"{dataset_dir}{source_file_name}\",\n",
        "            'r', encoding='utf-8') as read_file:\n",
        "    for line in read_file:\n",
        "      data.append(line)\n",
        "  \n",
        "  length = len(data)\n",
        "  test_length = int(length * test_size)\n",
        "  eval_length = int(length * eval_size)\n",
        "  if shuffle:\n",
        "    random.shuffle(data)\n",
        "  test_data = data[: test_length]\n",
        "  eval_data = data[test_length : test_length + eval_length]\n",
        "  train_data = data[test_length + eval_length :]\n",
        "\n",
        "  sets = {'test': test_data, 'eval': eval_data, 'train': train_data}\n",
        "  for name, dataset in sets.items():\n",
        "    with open(f\"{dataset_dir}{output_file_name_base}_{name}.txt\", \n",
        "              'w', encoding='utf-8') as file:\n",
        "      for line in dataset:\n",
        "        file.write(line)\n"
      ],
      "execution_count": null,
      "outputs": []
    },
    {
      "cell_type": "code",
      "metadata": {
        "id": "3KWsdrFDVjlP"
      },
      "source": [
        "# split_dataset(shuffle=False)"
      ],
      "execution_count": null,
      "outputs": []
    },
    {
      "cell_type": "markdown",
      "metadata": {
        "id": "KyxTCy-qqRTi"
      },
      "source": [
        "### Install libs"
      ]
    },
    {
      "cell_type": "markdown",
      "metadata": {
        "id": "u5il7_ZImEj4"
      },
      "source": [
        "Download BERT checkpoint"
      ]
    },
    {
      "cell_type": "code",
      "metadata": {
        "id": "F0fYk_HMlm3e"
      },
      "source": [
        "# !wget http://files.deeppavlov.ai/deeppavlov_data/bert/rubert_cased_L-12_H-768_A-12_pt.tar.gz\n",
        "# !tar -xvzf rubert_cased_L-12_H-768_A-12_pt.tar.gz\n",
        "# %cd rubert_cased_L-12_H-768_A-12_pt/\n",
        "# !mv bert_config.json config.json"
      ],
      "execution_count": null,
      "outputs": []
    },
    {
      "cell_type": "markdown",
      "metadata": {
        "id": "jFirQQzctq1l"
      },
      "source": [
        "Clone the repository"
      ]
    },
    {
      "cell_type": "code",
      "metadata": {
        "colab": {
          "base_uri": "https://localhost:8080/"
        },
        "id": "w2kpBbeUdN3c",
        "outputId": "2daa420e-710c-4ec0-9c14-fb05d3c37c9e"
      },
      "source": [
        "%cd /content/\n",
        "!git clone https://github.com/lightbooster/mellotron.git\n",
        "%cd mellotron\n",
        "!git checkout tp-gst-bert"
      ],
      "execution_count": 3,
      "outputs": [
        {
          "output_type": "stream",
          "text": [
            "/content\n",
            "Cloning into 'mellotron'...\n",
            "remote: Enumerating objects: 209, done.\u001b[K\n",
            "remote: Counting objects: 100% (54/54), done.\u001b[K\n",
            "remote: Compressing objects: 100% (34/34), done.\u001b[K\n",
            "remote: Total 209 (delta 29), reused 40 (delta 19), pack-reused 155\u001b[K\n",
            "Receiving objects: 100% (209/209), 3.97 MiB | 23.09 MiB/s, done.\n",
            "Resolving deltas: 100% (95/95), done.\n",
            "/content/mellotron\n",
            "Branch 'tp-gst-bert' set up to track remote branch 'tp-gst-bert' from 'origin'.\n",
            "Switched to a new branch 'tp-gst-bert'\n"
          ],
          "name": "stdout"
        }
      ]
    },
    {
      "cell_type": "code",
      "metadata": {
        "id": "v-hhGBqqqkJg",
        "colab": {
          "base_uri": "https://localhost:8080/"
        },
        "outputId": "edaa6c80-130a-45bd-e372-2a10e01f1d3f"
      },
      "source": [
        "%cd /content/mellotron/"
      ],
      "execution_count": 4,
      "outputs": [
        {
          "output_type": "stream",
          "text": [
            "/content/mellotron\n"
          ],
          "name": "stdout"
        }
      ]
    },
    {
      "cell_type": "code",
      "metadata": {
        "id": "gH0DmEU-qm_H",
        "colab": {
          "base_uri": "https://localhost:8080/"
        },
        "outputId": "8e571cee-4ae1-47cc-b498-9fcf6cc7c75b"
      },
      "source": [
        "!git submodule init; git submodule update"
      ],
      "execution_count": 5,
      "outputs": [
        {
          "output_type": "stream",
          "text": [
            "Submodule 'waveglow' (https://github.com/NVIDIA/waveglow.git) registered for path 'waveglow'\n",
            "Cloning into '/content/mellotron/waveglow'...\n",
            "Submodule path 'waveglow': checked out '2fd4e63e2918012f55eac2c8a8e75622a39741be'\n"
          ],
          "name": "stdout"
        }
      ]
    },
    {
      "cell_type": "code",
      "metadata": {
        "colab": {
          "base_uri": "https://localhost:8080/"
        },
        "id": "frO-aSUHlXIb",
        "outputId": "5f8928dc-de20-434b-f4d5-4d8d57b88174"
      },
      "source": [
        "!cat requirements.txt"
      ],
      "execution_count": 6,
      "outputs": [
        {
          "output_type": "stream",
          "text": [
            "matplotlib==2.1.0\n",
            "tensorflow==1.15.2\n",
            "inflect==0.2.5\n",
            "librosa==0.6.0\n",
            "scipy==1.0.0\n",
            "tensorboardX==1.1\n",
            "Unidecode==1.0.22\n",
            "pillow\n",
            "nltk==3.4.5\n",
            "jamo==0.4.1\n",
            "music21\n",
            "transformers==4.6.1"
          ],
          "name": "stdout"
        }
      ]
    },
    {
      "cell_type": "code",
      "metadata": {
        "id": "gkfnpIfmtgIQ",
        "colab": {
          "base_uri": "https://localhost:8080/"
        },
        "outputId": "3e0be3ea-f26e-4b81-df57-6cd0e2667028"
      },
      "source": [
        "!pip install apex\n",
        "!pip install Unidecode\n",
        "!pip install tensorflow==1.15.2\n",
        "!pip install transformers==4.6.1\n",
        "!pip install tensorboardX"
      ],
      "execution_count": 7,
      "outputs": [
        {
          "output_type": "stream",
          "text": [
            "Collecting apex\n",
            "  Downloading https://files.pythonhosted.org/packages/31/b6/923de12ffcc2686157d7f74b96396b87c854eaaeec9d441d120facc2a0e0/apex-0.9.10dev.tar.gz\n",
            "Collecting cryptacular\n",
            "  Downloading https://files.pythonhosted.org/packages/ec/d6/a82d191ec058314b2b7cbee5635150f754ba1c6ffc05387bc9a57efe48b8/cryptacular-1.5.5.tar.gz\n",
            "  Installing build dependencies ... \u001b[?25l\u001b[?25hdone\n",
            "  Getting requirements to build wheel ... \u001b[?25l\u001b[?25hdone\n",
            "    Preparing wheel metadata ... \u001b[?25l\u001b[?25hdone\n",
            "Collecting zope.sqlalchemy\n",
            "  Downloading https://files.pythonhosted.org/packages/59/ab/0a19b1a931ea26346ef803bbf4db84ce8b30f5d64933204e92867c0f3b82/zope.sqlalchemy-1.4-py2.py3-none-any.whl\n",
            "Collecting velruse>=1.0.3\n",
            "\u001b[?25l  Downloading https://files.pythonhosted.org/packages/9c/d9/e18b5c98667c45f5dd1a256d72168ea5ff68f0025fc5b24be010f2696ca3/velruse-1.1.1.tar.gz (709kB)\n",
            "\u001b[K     |████████████████████████████████| 716kB 14.9MB/s \n",
            "\u001b[?25hCollecting pyramid>1.1.2\n",
            "\u001b[?25l  Downloading https://files.pythonhosted.org/packages/38/05/c75c59a1d8a3e44d3cb7d9ef9969bd4ff6dc18d860519dd1ef0cd547139f/pyramid-2.0-py3-none-any.whl (246kB)\n",
            "\u001b[K     |████████████████████████████████| 256kB 48.8MB/s \n",
            "\u001b[?25hCollecting pyramid_mailer\n",
            "  Downloading https://files.pythonhosted.org/packages/ea/c3/0ce593179a8da8e1ab7fe178b0ae096a046246bd44a5787f72940d6dd5b2/pyramid_mailer-0.15.1-py2.py3-none-any.whl\n",
            "Requirement already satisfied: requests in /usr/local/lib/python3.7/dist-packages (from apex) (2.23.0)\n",
            "Collecting wtforms\n",
            "\u001b[?25l  Downloading https://files.pythonhosted.org/packages/e0/31/614fc7dc7d76005b0acb8c0c8920d962b83d7422b4ba912886dfb63f86ff/WTForms-2.3.3-py2.py3-none-any.whl (169kB)\n",
            "\u001b[K     |████████████████████████████████| 174kB 47.3MB/s \n",
            "\u001b[?25hCollecting wtforms-recaptcha\n",
            "  Downloading https://files.pythonhosted.org/packages/5c/b0/42021ab061b768e3e5f430466219468c2afec99fe706e4340792d7a6fab4/wtforms_recaptcha-0.3.2-py2.py3-none-any.whl\n",
            "Collecting pbkdf2\n",
            "  Downloading https://files.pythonhosted.org/packages/02/c0/6a2376ae81beb82eda645a091684c0b0becb86b972def7849ea9066e3d5e/pbkdf2-1.3.tar.gz\n",
            "Requirement already satisfied: setuptools in /usr/local/lib/python3.7/dist-packages (from cryptacular->apex) (57.0.0)\n",
            "Requirement already satisfied: SQLAlchemy!=1.4.0,!=1.4.1,!=1.4.2,!=1.4.3,!=1.4.4,!=1.4.5,!=1.4.6,>=0.9 in /usr/local/lib/python3.7/dist-packages (from zope.sqlalchemy->apex) (1.4.18)\n",
            "Collecting zope.interface>=3.6.0\n",
            "\u001b[?25l  Downloading https://files.pythonhosted.org/packages/bb/a7/94e1a92c71436f934cdd2102826fa041c83dcb7d21dd0f1fb1a57f6e0620/zope.interface-5.4.0-cp37-cp37m-manylinux2010_x86_64.whl (251kB)\n",
            "\u001b[K     |████████████████████████████████| 256kB 47.7MB/s \n",
            "\u001b[?25hCollecting transaction>=1.6.0\n",
            "\u001b[?25l  Downloading https://files.pythonhosted.org/packages/9b/35/b5cca132f9b364066bea00cbf4ea466b7a15461a609ab9ba8e832e165452/transaction-3.0.1-py2.py3-none-any.whl (47kB)\n",
            "\u001b[K     |████████████████████████████████| 51kB 7.9MB/s \n",
            "\u001b[?25hRequirement already satisfied: requests-oauthlib in /usr/local/lib/python3.7/dist-packages (from velruse>=1.0.3->apex) (1.3.0)\n",
            "Collecting anykeystore\n",
            "  Downloading https://files.pythonhosted.org/packages/aa/dc/c4399c0e6b835710763705220f9c37681683f950678db799a5c7eda9e154/anykeystore-0.2.tar.gz\n",
            "Collecting python3-openid\n",
            "\u001b[?25l  Downloading https://files.pythonhosted.org/packages/e0/a5/c6ba13860bdf5525f1ab01e01cc667578d6f1efc8a1dba355700fb04c29b/python3_openid-3.2.0-py3-none-any.whl (133kB)\n",
            "\u001b[K     |████████████████████████████████| 143kB 49.1MB/s \n",
            "\u001b[?25hCollecting venusian>=1.0\n",
            "  Downloading https://files.pythonhosted.org/packages/43/92/3d522a710867168ee422a0ffbd712c425ece937aaeec4381497a59e24faf/venusian-3.0.0-py3-none-any.whl\n",
            "Collecting translationstring>=0.4\n",
            "  Downloading https://files.pythonhosted.org/packages/3b/98/36187601a15e3d37e9bfcf0e0e1055532b39d044353b06861c3a519737a9/translationstring-1.4-py2.py3-none-any.whl\n",
            "Collecting zope.deprecation>=3.5.0\n",
            "  Downloading https://files.pythonhosted.org/packages/f9/26/b935bbf9d27e898b87d80e7873a0200cebf239253d0afe7a59f82fe90fff/zope.deprecation-4.4.0-py2.py3-none-any.whl\n",
            "Collecting plaster\n",
            "  Downloading https://files.pythonhosted.org/packages/61/29/3ac8a5d03b2d9e6b876385066676472ba4acf93677acfc7360b035503d49/plaster-1.0-py2.py3-none-any.whl\n",
            "Collecting webob>=1.8.3\n",
            "\u001b[?25l  Downloading https://files.pythonhosted.org/packages/62/9c/e94a9982e9f31fc35cf46cdc543a6c2c26cb7174635b5fd25b0bbc6a7bc0/WebOb-1.8.7-py2.py3-none-any.whl (114kB)\n",
            "\u001b[K     |████████████████████████████████| 122kB 52.1MB/s \n",
            "\u001b[?25hCollecting plaster-pastedeploy\n",
            "  Downloading https://files.pythonhosted.org/packages/11/c4/0470056ea324c7a420c22647be512dec1b5e32b1b6e77e27c61838d2811c/plaster_pastedeploy-0.7-py2.py3-none-any.whl\n",
            "Collecting hupper>=1.5\n",
            "  Downloading https://files.pythonhosted.org/packages/9a/cb/d30896ad0d288358bbae60576556df78422179fc08c630f863258a7800ea/hupper-1.10.3-py2.py3-none-any.whl\n",
            "Collecting repoze.sendmail>=4.1\n",
            "\u001b[?25l  Downloading https://files.pythonhosted.org/packages/25/98/c5c64dc045b7c45858c391d04673a0f2748acef8e0eea4f2989b22220f97/repoze.sendmail-4.4.1-py2.py3-none-any.whl (41kB)\n",
            "\u001b[K     |████████████████████████████████| 51kB 8.1MB/s \n",
            "\u001b[?25hRequirement already satisfied: urllib3!=1.25.0,!=1.25.1,<1.26,>=1.21.1 in /usr/local/lib/python3.7/dist-packages (from requests->apex) (1.24.3)\n",
            "Requirement already satisfied: idna<3,>=2.5 in /usr/local/lib/python3.7/dist-packages (from requests->apex) (2.10)\n",
            "Requirement already satisfied: certifi>=2017.4.17 in /usr/local/lib/python3.7/dist-packages (from requests->apex) (2021.5.30)\n",
            "Requirement already satisfied: chardet<4,>=3.0.2 in /usr/local/lib/python3.7/dist-packages (from requests->apex) (3.0.4)\n",
            "Requirement already satisfied: MarkupSafe in /usr/local/lib/python3.7/dist-packages (from wtforms->apex) (2.0.1)\n",
            "Requirement already satisfied: importlib-metadata; python_version < \"3.8\" in /usr/local/lib/python3.7/dist-packages (from SQLAlchemy!=1.4.0,!=1.4.1,!=1.4.2,!=1.4.3,!=1.4.4,!=1.4.5,!=1.4.6,>=0.9->zope.sqlalchemy->apex) (4.5.0)\n",
            "Requirement already satisfied: greenlet!=0.4.17; python_version >= \"3\" in /usr/local/lib/python3.7/dist-packages (from SQLAlchemy!=1.4.0,!=1.4.1,!=1.4.2,!=1.4.3,!=1.4.4,!=1.4.5,!=1.4.6,>=0.9->zope.sqlalchemy->apex) (1.1.0)\n",
            "Requirement already satisfied: oauthlib>=3.0.0 in /usr/local/lib/python3.7/dist-packages (from requests-oauthlib->velruse>=1.0.3->apex) (3.1.1)\n",
            "Requirement already satisfied: defusedxml in /usr/local/lib/python3.7/dist-packages (from python3-openid->velruse>=1.0.3->apex) (0.7.1)\n",
            "Collecting PasteDeploy>=2.0\n",
            "  Downloading https://files.pythonhosted.org/packages/8f/0b/d47ea894587f3155f8c4520aa74d57c856189d0bbe27e831881d655a3386/PasteDeploy-2.1.1-py2.py3-none-any.whl\n",
            "Requirement already satisfied: typing-extensions>=3.6.4; python_version < \"3.8\" in /usr/local/lib/python3.7/dist-packages (from importlib-metadata; python_version < \"3.8\"->SQLAlchemy!=1.4.0,!=1.4.1,!=1.4.2,!=1.4.3,!=1.4.4,!=1.4.5,!=1.4.6,>=0.9->zope.sqlalchemy->apex) (3.7.4.3)\n",
            "Requirement already satisfied: zipp>=0.5 in /usr/local/lib/python3.7/dist-packages (from importlib-metadata; python_version < \"3.8\"->SQLAlchemy!=1.4.0,!=1.4.1,!=1.4.2,!=1.4.3,!=1.4.4,!=1.4.5,!=1.4.6,>=0.9->zope.sqlalchemy->apex) (3.4.1)\n",
            "Building wheels for collected packages: cryptacular\n",
            "  Building wheel for cryptacular (PEP 517) ... \u001b[?25l\u001b[?25hdone\n",
            "  Created wheel for cryptacular: filename=cryptacular-1.5.5-cp37-abi3-manylinux2010_x86_64.whl size=48279 sha256=0ba7a5685a5e31185e5226348e66d6ad56f559b674bfcec99827d607be318bba\n",
            "  Stored in directory: /root/.cache/pip/wheels/3c/79/bc/1eec7120c3ff9b0a2c7ad94d1626abc3388688e2ed7a45878f\n",
            "Successfully built cryptacular\n",
            "Building wheels for collected packages: apex, velruse, pbkdf2, anykeystore\n",
            "  Building wheel for apex (setup.py) ... \u001b[?25l\u001b[?25hdone\n",
            "  Created wheel for apex: filename=apex-0.9.10.dev0-cp37-none-any.whl size=46468 sha256=830267fdbe768fe1ca79b78fa0560e17502ade885575502244a46423c885b572\n",
            "  Stored in directory: /root/.cache/pip/wheels/39/4c/4b/2990cf86a29c679ae4bd5f4de5723aa8a4af107721089c9a55\n",
            "  Building wheel for velruse (setup.py) ... \u001b[?25l\u001b[?25hdone\n",
            "  Created wheel for velruse: filename=velruse-1.1.1-cp37-none-any.whl size=50938 sha256=d6265f4458fc796a63d4125e92522c2ef008a111dab78ed1693c8f26edb50303\n",
            "  Stored in directory: /root/.cache/pip/wheels/ca/65/9e/b805aad8ec3a359591c497b257dabe911f305d285b5d8a13cc\n",
            "  Building wheel for pbkdf2 (setup.py) ... \u001b[?25l\u001b[?25hdone\n",
            "  Created wheel for pbkdf2: filename=pbkdf2-1.3-cp37-none-any.whl size=5104 sha256=7d4f3e0541a88309e9f0a763ee420be81f524631a066e3cc508f5ba64b7d1c9b\n",
            "  Stored in directory: /root/.cache/pip/wheels/8e/62/b9/0bf3a68f2111e169253ec4d2bbdc303c46777b7fc99bbbf230\n",
            "  Building wheel for anykeystore (setup.py) ... \u001b[?25l\u001b[?25hdone\n",
            "  Created wheel for anykeystore: filename=anykeystore-0.2-cp37-none-any.whl size=17044 sha256=a87c37f44d6952fcc127f4dcd99d9cbf82d36a5b9a5de8a7d542d5b06866d369\n",
            "  Stored in directory: /root/.cache/pip/wheels/42/a9/b2/f79f84cbee6613c9edce6d98b9e1410c1d41d38953bd94eed2\n",
            "Successfully built apex velruse pbkdf2 anykeystore\n",
            "Installing collected packages: pbkdf2, cryptacular, zope.interface, transaction, zope.sqlalchemy, venusian, translationstring, zope.deprecation, plaster, webob, PasteDeploy, plaster-pastedeploy, hupper, pyramid, anykeystore, python3-openid, velruse, repoze.sendmail, pyramid-mailer, wtforms, wtforms-recaptcha, apex\n",
            "Successfully installed PasteDeploy-2.1.1 anykeystore-0.2 apex-0.9.10.dev0 cryptacular-1.5.5 hupper-1.10.3 pbkdf2-1.3 plaster-1.0 plaster-pastedeploy-0.7 pyramid-2.0 pyramid-mailer-0.15.1 python3-openid-3.2.0 repoze.sendmail-4.4.1 transaction-3.0.1 translationstring-1.4 velruse-1.1.1 venusian-3.0.0 webob-1.8.7 wtforms-2.3.3 wtforms-recaptcha-0.3.2 zope.deprecation-4.4.0 zope.interface-5.4.0 zope.sqlalchemy-1.4\n",
            "Collecting Unidecode\n",
            "\u001b[?25l  Downloading https://files.pythonhosted.org/packages/9e/25/723487ca2a52ebcee88a34d7d1f5a4b80b793f179ee0f62d5371938dfa01/Unidecode-1.2.0-py2.py3-none-any.whl (241kB)\n",
            "\u001b[K     |████████████████████████████████| 245kB 7.8MB/s \n",
            "\u001b[?25hInstalling collected packages: Unidecode\n",
            "Successfully installed Unidecode-1.2.0\n",
            "Collecting tensorflow==1.15.2\n",
            "\u001b[?25l  Downloading https://files.pythonhosted.org/packages/5b/81/84fb7a323f9723f81edfc796d89e89aa95a9446ed7353c144195b3a3a3ba/tensorflow-1.15.2-cp37-cp37m-manylinux2010_x86_64.whl (110.5MB)\n",
            "\u001b[K     |████████████████████████████████| 110.5MB 53kB/s \n",
            "\u001b[?25hRequirement already satisfied: opt-einsum>=2.3.2 in /usr/local/lib/python3.7/dist-packages (from tensorflow==1.15.2) (3.3.0)\n",
            "Requirement already satisfied: google-pasta>=0.1.6 in /usr/local/lib/python3.7/dist-packages (from tensorflow==1.15.2) (0.2.0)\n",
            "Requirement already satisfied: absl-py>=0.7.0 in /usr/local/lib/python3.7/dist-packages (from tensorflow==1.15.2) (0.12.0)\n",
            "Requirement already satisfied: six>=1.10.0 in /usr/local/lib/python3.7/dist-packages (from tensorflow==1.15.2) (1.15.0)\n",
            "Collecting tensorflow-estimator==1.15.1\n",
            "\u001b[?25l  Downloading https://files.pythonhosted.org/packages/de/62/2ee9cd74c9fa2fa450877847ba560b260f5d0fb70ee0595203082dafcc9d/tensorflow_estimator-1.15.1-py2.py3-none-any.whl (503kB)\n",
            "\u001b[K     |████████████████████████████████| 512kB 41.0MB/s \n",
            "\u001b[?25hRequirement already satisfied: keras-preprocessing>=1.0.5 in /usr/local/lib/python3.7/dist-packages (from tensorflow==1.15.2) (1.1.2)\n",
            "Collecting keras-applications>=1.0.8\n",
            "\u001b[?25l  Downloading https://files.pythonhosted.org/packages/71/e3/19762fdfc62877ae9102edf6342d71b28fbfd9dea3d2f96a882ce099b03f/Keras_Applications-1.0.8-py3-none-any.whl (50kB)\n",
            "\u001b[K     |████████████████████████████████| 51kB 8.3MB/s \n",
            "\u001b[?25hCollecting gast==0.2.2\n",
            "  Downloading https://files.pythonhosted.org/packages/4e/35/11749bf99b2d4e3cceb4d55ca22590b0d7c2c62b9de38ac4a4a7f4687421/gast-0.2.2.tar.gz\n",
            "Requirement already satisfied: astor>=0.6.0 in /usr/local/lib/python3.7/dist-packages (from tensorflow==1.15.2) (0.8.1)\n",
            "Requirement already satisfied: grpcio>=1.8.6 in /usr/local/lib/python3.7/dist-packages (from tensorflow==1.15.2) (1.34.1)\n",
            "Requirement already satisfied: wheel>=0.26; python_version >= \"3\" in /usr/local/lib/python3.7/dist-packages (from tensorflow==1.15.2) (0.36.2)\n",
            "Requirement already satisfied: numpy<2.0,>=1.16.0 in /usr/local/lib/python3.7/dist-packages (from tensorflow==1.15.2) (1.19.5)\n",
            "Collecting tensorboard<1.16.0,>=1.15.0\n",
            "\u001b[?25l  Downloading https://files.pythonhosted.org/packages/1e/e9/d3d747a97f7188f48aa5eda486907f3b345cd409f0a0850468ba867db246/tensorboard-1.15.0-py3-none-any.whl (3.8MB)\n",
            "\u001b[K     |████████████████████████████████| 3.8MB 39.1MB/s \n",
            "\u001b[?25hRequirement already satisfied: wrapt>=1.11.1 in /usr/local/lib/python3.7/dist-packages (from tensorflow==1.15.2) (1.12.1)\n",
            "Requirement already satisfied: protobuf>=3.6.1 in /usr/local/lib/python3.7/dist-packages (from tensorflow==1.15.2) (3.12.4)\n",
            "Requirement already satisfied: termcolor>=1.1.0 in /usr/local/lib/python3.7/dist-packages (from tensorflow==1.15.2) (1.1.0)\n",
            "Requirement already satisfied: h5py in /usr/local/lib/python3.7/dist-packages (from keras-applications>=1.0.8->tensorflow==1.15.2) (3.1.0)\n",
            "Requirement already satisfied: markdown>=2.6.8 in /usr/local/lib/python3.7/dist-packages (from tensorboard<1.16.0,>=1.15.0->tensorflow==1.15.2) (3.3.4)\n",
            "Requirement already satisfied: werkzeug>=0.11.15 in /usr/local/lib/python3.7/dist-packages (from tensorboard<1.16.0,>=1.15.0->tensorflow==1.15.2) (1.0.1)\n",
            "Requirement already satisfied: setuptools>=41.0.0 in /usr/local/lib/python3.7/dist-packages (from tensorboard<1.16.0,>=1.15.0->tensorflow==1.15.2) (57.0.0)\n",
            "Requirement already satisfied: cached-property; python_version < \"3.8\" in /usr/local/lib/python3.7/dist-packages (from h5py->keras-applications>=1.0.8->tensorflow==1.15.2) (1.5.2)\n",
            "Requirement already satisfied: importlib-metadata; python_version < \"3.8\" in /usr/local/lib/python3.7/dist-packages (from markdown>=2.6.8->tensorboard<1.16.0,>=1.15.0->tensorflow==1.15.2) (4.5.0)\n",
            "Requirement already satisfied: typing-extensions>=3.6.4; python_version < \"3.8\" in /usr/local/lib/python3.7/dist-packages (from importlib-metadata; python_version < \"3.8\"->markdown>=2.6.8->tensorboard<1.16.0,>=1.15.0->tensorflow==1.15.2) (3.7.4.3)\n",
            "Requirement already satisfied: zipp>=0.5 in /usr/local/lib/python3.7/dist-packages (from importlib-metadata; python_version < \"3.8\"->markdown>=2.6.8->tensorboard<1.16.0,>=1.15.0->tensorflow==1.15.2) (3.4.1)\n",
            "Building wheels for collected packages: gast\n",
            "  Building wheel for gast (setup.py) ... \u001b[?25l\u001b[?25hdone\n",
            "  Created wheel for gast: filename=gast-0.2.2-cp37-none-any.whl size=7557 sha256=c8606aabaf65fad5c7b472d9f0c6ba01ebcc09e61bee5153299aec0801724f4c\n",
            "  Stored in directory: /root/.cache/pip/wheels/5c/2e/7e/a1d4d4fcebe6c381f378ce7743a3ced3699feb89bcfbdadadd\n",
            "Successfully built gast\n",
            "\u001b[31mERROR: tensorflow-probability 0.12.1 has requirement gast>=0.3.2, but you'll have gast 0.2.2 which is incompatible.\u001b[0m\n",
            "\u001b[31mERROR: kapre 0.3.5 has requirement tensorflow>=2.0.0, but you'll have tensorflow 1.15.2 which is incompatible.\u001b[0m\n",
            "Installing collected packages: tensorflow-estimator, keras-applications, gast, tensorboard, tensorflow\n",
            "  Found existing installation: tensorflow-estimator 2.5.0\n",
            "    Uninstalling tensorflow-estimator-2.5.0:\n",
            "      Successfully uninstalled tensorflow-estimator-2.5.0\n",
            "  Found existing installation: gast 0.4.0\n",
            "    Uninstalling gast-0.4.0:\n",
            "      Successfully uninstalled gast-0.4.0\n",
            "  Found existing installation: tensorboard 2.5.0\n",
            "    Uninstalling tensorboard-2.5.0:\n",
            "      Successfully uninstalled tensorboard-2.5.0\n",
            "  Found existing installation: tensorflow 2.5.0\n",
            "    Uninstalling tensorflow-2.5.0:\n",
            "      Successfully uninstalled tensorflow-2.5.0\n",
            "Successfully installed gast-0.2.2 keras-applications-1.0.8 tensorboard-1.15.0 tensorflow-1.15.2 tensorflow-estimator-1.15.1\n",
            "Collecting transformers==4.6.1\n",
            "\u001b[?25l  Downloading https://files.pythonhosted.org/packages/d5/43/cfe4ee779bbd6a678ac6a97c5a5cdeb03c35f9eaebbb9720b036680f9a2d/transformers-4.6.1-py3-none-any.whl (2.2MB)\n",
            "\u001b[K     |████████████████████████████████| 2.3MB 7.2MB/s \n",
            "\u001b[?25hRequirement already satisfied: packaging in /usr/local/lib/python3.7/dist-packages (from transformers==4.6.1) (20.9)\n",
            "Collecting tokenizers<0.11,>=0.10.1\n",
            "\u001b[?25l  Downloading https://files.pythonhosted.org/packages/d4/e2/df3543e8ffdab68f5acc73f613de9c2b155ac47f162e725dcac87c521c11/tokenizers-0.10.3-cp37-cp37m-manylinux_2_5_x86_64.manylinux1_x86_64.manylinux_2_12_x86_64.manylinux2010_x86_64.whl (3.3MB)\n",
            "\u001b[K     |████████████████████████████████| 3.3MB 24.9MB/s \n",
            "\u001b[?25hRequirement already satisfied: numpy>=1.17 in /usr/local/lib/python3.7/dist-packages (from transformers==4.6.1) (1.19.5)\n",
            "Requirement already satisfied: importlib-metadata; python_version < \"3.8\" in /usr/local/lib/python3.7/dist-packages (from transformers==4.6.1) (4.5.0)\n",
            "Collecting sacremoses\n",
            "\u001b[?25l  Downloading https://files.pythonhosted.org/packages/75/ee/67241dc87f266093c533a2d4d3d69438e57d7a90abb216fa076e7d475d4a/sacremoses-0.0.45-py3-none-any.whl (895kB)\n",
            "\u001b[K     |████████████████████████████████| 901kB 45.4MB/s \n",
            "\u001b[?25hCollecting huggingface-hub==0.0.8\n",
            "  Downloading https://files.pythonhosted.org/packages/a1/88/7b1e45720ecf59c6c6737ff332f41c955963090a18e72acbcbeac6b25e86/huggingface_hub-0.0.8-py3-none-any.whl\n",
            "Requirement already satisfied: filelock in /usr/local/lib/python3.7/dist-packages (from transformers==4.6.1) (3.0.12)\n",
            "Requirement already satisfied: tqdm>=4.27 in /usr/local/lib/python3.7/dist-packages (from transformers==4.6.1) (4.41.1)\n",
            "Requirement already satisfied: requests in /usr/local/lib/python3.7/dist-packages (from transformers==4.6.1) (2.23.0)\n",
            "Requirement already satisfied: regex!=2019.12.17 in /usr/local/lib/python3.7/dist-packages (from transformers==4.6.1) (2019.12.20)\n",
            "Requirement already satisfied: pyparsing>=2.0.2 in /usr/local/lib/python3.7/dist-packages (from packaging->transformers==4.6.1) (2.4.7)\n",
            "Requirement already satisfied: typing-extensions>=3.6.4; python_version < \"3.8\" in /usr/local/lib/python3.7/dist-packages (from importlib-metadata; python_version < \"3.8\"->transformers==4.6.1) (3.7.4.3)\n",
            "Requirement already satisfied: zipp>=0.5 in /usr/local/lib/python3.7/dist-packages (from importlib-metadata; python_version < \"3.8\"->transformers==4.6.1) (3.4.1)\n",
            "Requirement already satisfied: click in /usr/local/lib/python3.7/dist-packages (from sacremoses->transformers==4.6.1) (7.1.2)\n",
            "Requirement already satisfied: joblib in /usr/local/lib/python3.7/dist-packages (from sacremoses->transformers==4.6.1) (1.0.1)\n",
            "Requirement already satisfied: six in /usr/local/lib/python3.7/dist-packages (from sacremoses->transformers==4.6.1) (1.15.0)\n",
            "Requirement already satisfied: certifi>=2017.4.17 in /usr/local/lib/python3.7/dist-packages (from requests->transformers==4.6.1) (2021.5.30)\n",
            "Requirement already satisfied: idna<3,>=2.5 in /usr/local/lib/python3.7/dist-packages (from requests->transformers==4.6.1) (2.10)\n",
            "Requirement already satisfied: chardet<4,>=3.0.2 in /usr/local/lib/python3.7/dist-packages (from requests->transformers==4.6.1) (3.0.4)\n",
            "Requirement already satisfied: urllib3!=1.25.0,!=1.25.1,<1.26,>=1.21.1 in /usr/local/lib/python3.7/dist-packages (from requests->transformers==4.6.1) (1.24.3)\n",
            "Installing collected packages: tokenizers, sacremoses, huggingface-hub, transformers\n",
            "Successfully installed huggingface-hub-0.0.8 sacremoses-0.0.45 tokenizers-0.10.3 transformers-4.6.1\n",
            "Collecting tensorboardX\n",
            "\u001b[?25l  Downloading https://files.pythonhosted.org/packages/42/36/2b147652c40c3a858efa0afbf7b8236fae968e88ff530511a4cfa299a506/tensorboardX-2.3-py2.py3-none-any.whl (124kB)\n",
            "\u001b[K     |████████████████████████████████| 133kB 8.1MB/s \n",
            "\u001b[?25hRequirement already satisfied: protobuf>=3.8.0 in /usr/local/lib/python3.7/dist-packages (from tensorboardX) (3.12.4)\n",
            "Requirement already satisfied: numpy in /usr/local/lib/python3.7/dist-packages (from tensorboardX) (1.19.5)\n",
            "Requirement already satisfied: six>=1.9 in /usr/local/lib/python3.7/dist-packages (from protobuf>=3.8.0->tensorboardX) (1.15.0)\n",
            "Requirement already satisfied: setuptools in /usr/local/lib/python3.7/dist-packages (from protobuf>=3.8.0->tensorboardX) (57.0.0)\n",
            "Installing collected packages: tensorboardX\n",
            "Successfully installed tensorboardX-2.3\n"
          ],
          "name": "stdout"
        }
      ]
    },
    {
      "cell_type": "markdown",
      "metadata": {
        "id": "7Dn4kR_Bka13"
      },
      "source": [
        "## Train"
      ]
    },
    {
      "cell_type": "code",
      "metadata": {
        "colab": {
          "base_uri": "https://localhost:8080/"
        },
        "id": "VCuId6vk0wdU",
        "outputId": "49087565-0b2c-4357-f9a9-b5d6d43afa39"
      },
      "source": [
        "%cd /content/mellotron/"
      ],
      "execution_count": 8,
      "outputs": [
        {
          "output_type": "stream",
          "text": [
            "/content/mellotron\n"
          ],
          "name": "stdout"
        }
      ]
    },
    {
      "cell_type": "markdown",
      "metadata": {
        "id": "vVNKrX6chFVm"
      },
      "source": [
        "### Hyperparams"
      ]
    },
    {
      "cell_type": "code",
      "metadata": {
        "id": "LIZGtNfMhIhj",
        "colab": {
          "base_uri": "https://localhost:8080/",
          "height": 69
        },
        "outputId": "472c40f7-a605-4b28-da6f-f7c66a9c1625"
      },
      "source": [
        "home_dir = \"/content/drive/MyDrive/\"\n",
        "\n",
        "training_files = home_dir + \"M_AILABS_Ru/mlbs_audio_text_train.txt\"\n",
        "validation_files = home_dir + \"M_AILABS_Ru/mlbs_audio_text_eval.txt\"\n",
        "\n",
        "output_directory = home_dir + \"M_AILABS_Ru/checkpoints_GST_warm\"\n",
        "log_directory = \"../logs_GST_warm\"\n",
        "\n",
        "batch_size = 16\n",
        "iters_per_checkpoint = 1000\n",
        "sampling_rate = 16000\n",
        "\n",
        "bert_path = home_dir + \"ModelsCheckpoints/rubert_cased_L-12_H-768_A-12_pt/\"\n",
        "\n",
        "hparams = f\"batch_size={batch_size},\\\n",
        "            iters_per_checkpoint={iters_per_checkpoint},\\\n",
        "            training_files={training_files},\\\n",
        "            validation_files={validation_files},\\\n",
        "            sampling_rate={sampling_rate},\\\n",
        "            bert_checkpoint_path={bert_path}\"\n",
        "\n",
        "hparams"
      ],
      "execution_count": 9,
      "outputs": [
        {
          "output_type": "execute_result",
          "data": {
            "application/vnd.google.colaboratory.intrinsic+json": {
              "type": "string"
            },
            "text/plain": [
              "'batch_size=16,            iters_per_checkpoint=1000,            training_files=/content/drive/MyDrive/M_AILABS_Ru/mlbs_audio_text_train.txt,            validation_files=/content/drive/MyDrive/M_AILABS_Ru/mlbs_audio_text_eval.txt,            sampling_rate=16000,            bert_checkpoint_path=/content/drive/MyDrive/ModelsCheckpoints/rubert_cased_L-12_H-768_A-12_pt/'"
            ]
          },
          "metadata": {
            "tags": []
          },
          "execution_count": 9
        }
      ]
    },
    {
      "cell_type": "markdown",
      "metadata": {
        "id": "9WG_YhAWh3OQ"
      },
      "source": [
        "### Pretrained weights"
      ]
    },
    {
      "cell_type": "markdown",
      "metadata": {
        "id": "v_qM0azaHD4G"
      },
      "source": [
        "NVIDEA checkpoint and deleted language weights"
      ]
    },
    {
      "cell_type": "code",
      "metadata": {
        "id": "Dmo5ccTyhzhp"
      },
      "source": [
        "# checkpoint_path = \"/content/drive/MyDrive/ModelsCheckpoints/tacotron2tp-sgt_warm_checkpoint.pt\"\n",
        "# !python train.py --output_directory=$output_directory --log_directory=$log_directory --hparams \"$hparams\" -c $checkpoint_path --warm_start"
      ],
      "execution_count": null,
      "outputs": []
    },
    {
      "cell_type": "markdown",
      "metadata": {
        "id": "gxYb8aq3HAq_"
      },
      "source": [
        "my checkpoint and saved weights"
      ]
    },
    {
      "cell_type": "code",
      "metadata": {
        "id": "015kGrurHJhh"
      },
      "source": [
        "checkpoint_num = 27000\n",
        "checkpoint_path = f\"{output_directory}/checkpoint_{checkpoint_num}\"\n",
        "!python train.py --output_directory=$output_directory --log_directory=$log_directory --hparams \"$hparams\" -c $checkpoint_path"
      ],
      "execution_count": null,
      "outputs": []
    },
    {
      "cell_type": "markdown",
      "metadata": {
        "id": "TDjCO8rwh96d"
      },
      "source": [
        "### From the start"
      ]
    },
    {
      "cell_type": "code",
      "metadata": {
        "id": "p8iofLnzcvMY"
      },
      "source": [
        "# !python train.py --output_directory=$output_directory --log_directory=$log_directory --hparams \"$hparams\""
      ],
      "execution_count": null,
      "outputs": []
    },
    {
      "cell_type": "markdown",
      "metadata": {
        "id": "5fyvTkM_wMW5"
      },
      "source": [
        "## Eval"
      ]
    },
    {
      "cell_type": "markdown",
      "metadata": {
        "id": "9TTjNjO_9gq-"
      },
      "source": [
        "### Tacotron2 + TP-GST + BERT"
      ]
    },
    {
      "cell_type": "code",
      "metadata": {
        "colab": {
          "base_uri": "https://localhost:8080/"
        },
        "id": "y8kpWA35m3yf",
        "outputId": "a8117449-39a3-4d60-8fca-eadc1a21ce2b"
      },
      "source": [
        "%cd /content/mellotron/"
      ],
      "execution_count": 10,
      "outputs": [
        {
          "output_type": "stream",
          "text": [
            "/content/mellotron\n"
          ],
          "name": "stdout"
        }
      ]
    },
    {
      "cell_type": "code",
      "metadata": {
        "id": "Zf83z6dSwNkJ"
      },
      "source": [
        "%matplotlib inline\n",
        "import matplotlib\n",
        "import matplotlib.pyplot as plt\n",
        "import IPython.display as ipd\n",
        "\n",
        "import sys\n",
        "sys.path.append('waveglow/')\n",
        "\n",
        "from itertools import cycle\n",
        "import numpy as np\n",
        "import scipy as sp\n",
        "from scipy.io.wavfile import write\n",
        "import pandas as pd\n",
        "import librosa\n",
        "import torch\n",
        "\n",
        "from hparams import create_hparams\n",
        "from model import Tacotron2, load_model\n",
        "from layers import TacotronSTFT\n",
        "from data_utils import TextMelLoader, TextMelCollate\n",
        "from text import cmudict, text_to_sequence\n",
        "from mellotron_utils import get_data_from_musicxml"
      ],
      "execution_count": 11,
      "outputs": []
    },
    {
      "cell_type": "code",
      "metadata": {
        "id": "AbmD4ZmeOsD9"
      },
      "source": [
        "def plot_data(data, figsize=(16, 4)):\n",
        "    fig, axes = plt.subplots(1, len(data), figsize=figsize)\n",
        "    for i in range(len(data)):\n",
        "        axes[i].imshow(data[i], aspect='auto', origin='bottom', \n",
        "                       interpolation='none')"
      ],
      "execution_count": 12,
      "outputs": []
    },
    {
      "cell_type": "code",
      "metadata": {
        "id": "TuUBTOXHUBtO",
        "colab": {
          "base_uri": "https://localhost:8080/",
          "height": 35
        },
        "outputId": "a87d31e1-a9fc-4eb5-f1d4-effc6fe4e178"
      },
      "source": [
        "checkpoint_dir = \"../drive/MyDrive/M_AILABS_Ru/checkpoints_GST_warm/\"\n",
        "checkpoint_name = \"checkpoint_\"\n",
        "checkpoint_num = 27000\n",
        "checkpoint_path = checkpoint_dir + checkpoint_name + str(checkpoint_num)\n",
        "checkpoint_path"
      ],
      "execution_count": 13,
      "outputs": [
        {
          "output_type": "execute_result",
          "data": {
            "application/vnd.google.colaboratory.intrinsic+json": {
              "type": "string"
            },
            "text/plain": [
              "'../drive/MyDrive/M_AILABS_Ru/checkpoints_GST_warm/checkpoint_27000'"
            ]
          },
          "metadata": {
            "tags": []
          },
          "execution_count": 13
        }
      ]
    },
    {
      "cell_type": "code",
      "metadata": {
        "id": "hlxmaJlPOxHM",
        "colab": {
          "base_uri": "https://localhost:8080/"
        },
        "outputId": "85e8bb4d-ea50-4523-b637-c25899510634"
      },
      "source": [
        "hparams = create_hparams()\n",
        "hparams.sampling_rate = 16000\n",
        "hparams.bert_checkpoint_path = bert_path = home_dir + \"ModelsCheckpoints/rubert_cased_L-12_H-768_A-12_pt/\"\n",
        "# hparams.gate_threshold = 0.5"
      ],
      "execution_count": 14,
      "outputs": [
        {
          "output_type": "stream",
          "text": [
            "WARNING:tensorflow:\n",
            "The TensorFlow contrib module will not be included in TensorFlow 2.0.\n",
            "For more information, please see:\n",
            "  * https://github.com/tensorflow/community/blob/master/rfcs/20180907-contrib-sunset.md\n",
            "  * https://github.com/tensorflow/addons\n",
            "  * https://github.com/tensorflow/io (for I/O related ops)\n",
            "If you depend on functionality not listed there, please file an issue.\n",
            "\n"
          ],
          "name": "stdout"
        }
      ]
    },
    {
      "cell_type": "code",
      "metadata": {
        "colab": {
          "base_uri": "https://localhost:8080/"
        },
        "id": "3Gb62KPnysLT",
        "outputId": "648cc9ed-a65c-4746-ece9-7a3dbad34815"
      },
      "source": [
        "model = load_model(hparams)\n",
        "model.load_state_dict(torch.load(checkpoint_path)['state_dict'], strict=False)\n",
        "_ = model.cuda().eval()"
      ],
      "execution_count": 15,
      "outputs": [
        {
          "output_type": "stream",
          "text": [
            "BERT\n"
          ],
          "name": "stdout"
        },
        {
          "output_type": "stream",
          "text": [
            "Some weights of the model checkpoint at /content/drive/MyDrive/ModelsCheckpoints/rubert_cased_L-12_H-768_A-12_pt/ were not used when initializing BertModel: ['cls.seq_relationship.weight', 'cls.predictions.transform.dense.weight', 'cls.predictions.transform.LayerNorm.weight', 'cls.predictions.bias', 'cls.predictions.decoder.weight', 'cls.seq_relationship.bias', 'cls.predictions.transform.dense.bias', 'cls.predictions.transform.LayerNorm.bias']\n",
            "- This IS expected if you are initializing BertModel from the checkpoint of a model trained on another task or with another architecture (e.g. initializing a BertForSequenceClassification model from a BertForPreTraining model).\n",
            "- This IS NOT expected if you are initializing BertModel from the checkpoint of a model that you expect to be exactly identical (initializing a BertForSequenceClassification model from a BertForSequenceClassification model).\n"
          ],
          "name": "stderr"
        },
        {
          "output_type": "stream",
          "text": [
            "bert from checkpoint\n",
            "---------------------\n"
          ],
          "name": "stdout"
        }
      ]
    },
    {
      "cell_type": "markdown",
      "metadata": {
        "id": "lcIfaKHvVCMe"
      },
      "source": [
        "### WaveGlow"
      ]
    },
    {
      "cell_type": "code",
      "metadata": {
        "colab": {
          "base_uri": "https://localhost:8080/",
          "height": 222,
          "referenced_widgets": [
            "5478c26ee2fe4332b715f9a8b2d86af6",
            "c50aa060655f44288b05c936baab7e51",
            "a814bc57006e42a0b464340c624b0750",
            "3ab2a07010344a0cb81b9b87b9496055",
            "c77af66463804314bb0c85e6381d25aa",
            "3741359fb611429ab69a8e2c16515fd5",
            "df23fadcfb494e5ead21546ba721a643",
            "9ffd6da192194a268c0779af38307a64"
          ]
        },
        "id": "F4L14EgJVD6s",
        "outputId": "abdf85c0-0724-4ddf-988b-476c59765444"
      },
      "source": [
        "waveglow = torch.hub.load('nvidia/DeepLearningExamples:torchhub', 'nvidia_waveglow', pretrained=False)\n",
        "checkpoint = torch.hub.load_state_dict_from_url('https://api.ngc.nvidia.com/v2/models/nvidia/waveglow_ckpt_fp32/versions/19.09.0/files/nvidia_waveglowpyt_fp32_20190427')\n",
        "\n",
        "# # Unwrap the DistributedDataParallel module\n",
        "state_dict = {key.replace(\"module.\", \"\"): value for key, value in checkpoint[\"state_dict\"].items()}\n",
        "\n",
        "# # Apply the state dict to the model\n",
        "waveglow.load_state_dict(state_dict)\n",
        "waveglow = waveglow.remove_weightnorm(waveglow)\n",
        "waveglow = waveglow.to('cuda')\n",
        "_ = waveglow.eval()"
      ],
      "execution_count": 16,
      "outputs": [
        {
          "output_type": "stream",
          "text": [
            "Downloading: \"https://github.com/nvidia/DeepLearningExamples/archive/torchhub.zip\" to /root/.cache/torch/hub/torchhub.zip\n",
            "/root/.cache/torch/hub/nvidia_DeepLearningExamples_torchhub/PyTorch/SpeechSynthesis/Tacotron2/waveglow/model.py:55: UserWarning: torch.qr is deprecated in favor of torch.linalg.qr and will be removed in a future PyTorch release.\n",
            "The boolean parameter 'some' has been replaced with a string parameter 'mode'.\n",
            "Q, R = torch.qr(A, some)\n",
            "should be replaced with\n",
            "Q, R = torch.linalg.qr(A, 'reduced' if some else 'complete') (Triggered internally at  /pytorch/aten/src/ATen/native/BatchLinearAlgebra.cpp:1940.)\n",
            "  W = torch.qr(torch.FloatTensor(c, c).normal_())[0]\n",
            "Downloading: \"https://api.ngc.nvidia.com/v2/models/nvidia/waveglow_ckpt_fp32/versions/19.09.0/files/nvidia_waveglowpyt_fp32_20190427\" to /root/.cache/torch/hub/checkpoints/nvidia_waveglowpyt_fp32_20190427\n"
          ],
          "name": "stderr"
        },
        {
          "output_type": "display_data",
          "data": {
            "application/vnd.jupyter.widget-view+json": {
              "model_id": "5478c26ee2fe4332b715f9a8b2d86af6",
              "version_minor": 0,
              "version_major": 2
            },
            "text/plain": [
              "HBox(children=(FloatProgress(value=0.0, max=1073366784.0), HTML(value='')))"
            ]
          },
          "metadata": {
            "tags": []
          }
        },
        {
          "output_type": "stream",
          "text": [
            "\n"
          ],
          "name": "stdout"
        }
      ]
    },
    {
      "cell_type": "markdown",
      "metadata": {
        "id": "ujP1yev8BH8n"
      },
      "source": [
        "## Testing"
      ]
    },
    {
      "cell_type": "markdown",
      "metadata": {
        "id": "V-4hNWB0TCQ0"
      },
      "source": [
        "### Inference"
      ]
    },
    {
      "cell_type": "code",
      "metadata": {
        "id": "BWvCbwA_BZio"
      },
      "source": [
        "text = \"Не подскажите какой сегодня день?\""
      ],
      "execution_count": 27,
      "outputs": []
    },
    {
      "cell_type": "code",
      "metadata": {
        "colab": {
          "base_uri": "https://localhost:8080/"
        },
        "id": "9TFuV51NBLSv",
        "outputId": "925d7b11-4bb0-45a9-bb92-60e76791d7cf"
      },
      "source": [
        "# preprocessing\n",
        "sequence = np.array(text_to_sequence(text, ['english_cleaners']))[None, :]\n",
        "sequence = torch.from_numpy(sequence).to(device='cuda', dtype=torch.int64)\n",
        "sequence"
      ],
      "execution_count": 28,
      "outputs": [
        {
          "output_type": "execute_result",
          "data": {
            "text/plain": [
              "tensor([[ 88,  79,   8,  90,  89,  78,  93,  85,  75, 100,  82,  83,  94,  79,\n",
              "           8,  85,  75,  85,  89,  83,   8,  93,  79,  81,  89,  78,  88,  83,\n",
              "          75,   8,  78,  79,  88,   1,   7]], device='cuda:0')"
            ]
          },
          "metadata": {
            "tags": []
          },
          "execution_count": 28
        }
      ]
    },
    {
      "cell_type": "code",
      "metadata": {
        "id": "0PiY03B7InmI",
        "colab": {
          "base_uri": "https://localhost:8080/"
        },
        "outputId": "2edaa7aa-16d1-43df-b454-da8a31a134f5"
      },
      "source": [
        "# run the models\n",
        "with torch.no_grad():\n",
        "    mel_outputs, mel_outputs_postnet, _, alignments = model.inference((sequence, text), 'tpse-linear')\n",
        "    audio = waveglow.infer(mel_outputs_postnet)\n",
        "audio_numpy = audio[0].data.cpu().numpy()\n",
        "rate = 16000\n",
        "mel_outputs.shape"
      ],
      "execution_count": 35,
      "outputs": [
        {
          "output_type": "execute_result",
          "data": {
            "text/plain": [
              "torch.Size([1, 80, 208])"
            ]
          },
          "metadata": {
            "tags": []
          },
          "execution_count": 35
        }
      ]
    },
    {
      "cell_type": "markdown",
      "metadata": {
        "id": "nX7wdy8NJjXo"
      },
      "source": [
        "Reference audio"
      ]
    },
    {
      "cell_type": "code",
      "metadata": {
        "id": "_aVmfrMSJldQ"
      },
      "source": [
        "import librosa"
      ],
      "execution_count": null,
      "outputs": []
    },
    {
      "cell_type": "code",
      "metadata": {
        "id": "uBeFP_0DJogL"
      },
      "source": [
        "stft = TacotronSTFT(hparams.filter_length, hparams.hop_length, hparams.win_length,\n",
        "                    hparams.n_mel_channels, hparams.sampling_rate, hparams.mel_fmin,\n",
        "                    hparams.mel_fmax)\n",
        "\n",
        "def load_mel(path):\n",
        "    audio, sampling_rate = librosa.core.load(path, sr=16000)\n",
        "    audio = torch.from_numpy(audio)\n",
        "    if sampling_rate != hparams.sampling_rate:\n",
        "        raise ValueError(\"{} SR doesn't match target {} SR\".format(\n",
        "            sampling_rate, stft.sampling_rate))\n",
        "    audio_norm = audio.unsqueeze(0)\n",
        "    audio_norm = torch.autograd.Variable(audio_norm, requires_grad=False)\n",
        "    melspec = stft.mel_spectrogram(audio_norm)\n",
        "    melspec = melspec.cuda()\n",
        "    return melspec"
      ],
      "execution_count": null,
      "outputs": []
    },
    {
      "cell_type": "code",
      "metadata": {
        "colab": {
          "base_uri": "https://localhost:8080/"
        },
        "id": "YY0sTKD3JuQF",
        "outputId": "44d3f43b-da9c-4a9c-b6cb-252628d6f1bd"
      },
      "source": [
        "reference_mel = load_mel('/content/drive/MyDrive/M_AILABS_Ru/wavs/chetvero_nischih_s000001.wav')\n",
        "reference_mel.shape"
      ],
      "execution_count": null,
      "outputs": [
        {
          "output_type": "execute_result",
          "data": {
            "text/plain": [
              "torch.Size([1, 80, 639])"
            ]
          },
          "metadata": {
            "tags": []
          },
          "execution_count": 37
        }
      ]
    },
    {
      "cell_type": "code",
      "metadata": {
        "colab": {
          "base_uri": "https://localhost:8080/"
        },
        "id": "LWNcLguMG8gm",
        "outputId": "b8700eaf-f341-4467-be66-17efbdb0b450"
      },
      "source": [
        "# run the models\n",
        "with torch.no_grad():\n",
        "    mel_outputs, mel_outputs_postnet, _, alignments = model.inference_reference((sequence, reference_mel))\n",
        "    audio = waveglow.infer(mel_outputs_postnet)\n",
        "audio_numpy = audio[0].data.cpu().numpy()\n",
        "rate = 16000\n",
        "mel_outputs.shape"
      ],
      "execution_count": null,
      "outputs": [
        {
          "output_type": "stream",
          "text": [
            "Warning! Reached max decoder steps\n"
          ],
          "name": "stdout"
        },
        {
          "output_type": "execute_result",
          "data": {
            "text/plain": [
              "torch.Size([1, 80, 1000])"
            ]
          },
          "metadata": {
            "tags": []
          },
          "execution_count": 40
        }
      ]
    },
    {
      "cell_type": "markdown",
      "metadata": {
        "id": "8EukVm1BYyTK"
      },
      "source": [
        "Visualize Mels"
      ]
    },
    {
      "cell_type": "code",
      "metadata": {
        "colab": {
          "base_uri": "https://localhost:8080/",
          "height": 265
        },
        "id": "416OiX7KQIn2",
        "outputId": "f8567487-e439-441b-905d-4ef8a9abb91d"
      },
      "source": [
        "%matplotlib inline\n",
        "plot_data((mel_outputs.float().data.cpu().numpy()[0],\n",
        "           mel_outputs_postnet.float().data.cpu().numpy()[0],\n",
        "           alignments.float().data.cpu().numpy()[0].T))\n",
        "plt.show()"
      ],
      "execution_count": 36,
      "outputs": [
        {
          "output_type": "display_data",
          "data": {
            "image/png": "[encoded data removed]",
            "text/plain": [
              "<Figure size 1152x288 with 3 Axes>"
            ]
          },
          "metadata": {
            "tags": [],
            "image/png": {
              "width": 927,
              "height": 248
            },
            "needs_background": "light"
          }
        }
      ]
    },
    {
      "cell_type": "markdown",
      "metadata": {
        "id": "_MfXQzITYP7x"
      },
      "source": [
        "### Audio"
      ]
    },
    {
      "cell_type": "code",
      "metadata": {
        "id": "uGzP-_joAH5O",
        "colab": {
          "base_uri": "https://localhost:8080/",
          "height": 75
        },
        "outputId": "903fa641-1e11-4448-df59-ef78c60396dd"
      },
      "source": [
        "with torch.no_grad():\n",
        "    audio = waveglow.infer(mel_outputs)\n",
        "audio_numpy = audio[0].data.cpu().numpy()\n",
        "rate = 22500\n",
        "ipd.Audio(audio_numpy, rate=rate)"
      ],
      "execution_count": 38,
      "outputs": [
        {
          "output_type": "execute_result",
          "data": {
            "text/html": [
              "\n",
              "                <audio controls=\"controls\" >\n",
              "                    <source src=\"data:audio/wav;base64,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\" type=\"audio/wav\" />\n",
              "                    Your browser does not support the audio element.\n",
              "                </audio>\n",
              "              "
            ],
            "text/plain": [
              "<IPython.lib.display.Audio object>"
            ]
          },
          "metadata": {
            "tags": []
          },
          "execution_count": 38
        }
      ]
    }
  ]
}