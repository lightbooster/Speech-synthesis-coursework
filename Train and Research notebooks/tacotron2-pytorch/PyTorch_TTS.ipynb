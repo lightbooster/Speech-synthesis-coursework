{
  "nbformat": 4,
  "nbformat_minor": 0,
  "metadata": {
    "colab": {
      "name": "Tacotron2",
      "provenance": [],
      "collapsed_sections": [
        "O4NUGxGwRI8q",
        "g0kadgTZryHj",
        "HHfFnyi8S3fp"
      ],
      "toc_visible": true
    },
    "kernelspec": {
      "display_name": "Python 3",
      "name": "python3"
    },
    "widgets": {
      "application/vnd.jupyter.widget-state+json": {
        "13413c41248c4af39a4c11b7d0539cf6": {
          "model_module": "@jupyter-widgets/controls",
          "model_name": "HBoxModel",
          "state": {
            "_view_name": "HBoxView",
            "_dom_classes": [],
            "_model_name": "HBoxModel",
            "_view_module": "@jupyter-widgets/controls",
            "_model_module_version": "1.5.0",
            "_view_count": null,
            "_view_module_version": "1.5.0",
            "box_style": "",
            "layout": "IPY_MODEL_55d42ea977fa49958a15467a94ea1342",
            "_model_module": "@jupyter-widgets/controls",
            "children": [
              "IPY_MODEL_eb11bf1f2fd54c8ba66f78909fe965cf",
              "IPY_MODEL_5051b2ebc6cc4063b83dda1552dd2754"
            ]
          }
        },
        "55d42ea977fa49958a15467a94ea1342": {
          "model_module": "@jupyter-widgets/base",
          "model_name": "LayoutModel",
          "state": {
            "_view_name": "LayoutView",
            "grid_template_rows": null,
            "right": null,
            "justify_content": null,
            "_view_module": "@jupyter-widgets/base",
            "overflow": null,
            "_model_module_version": "1.2.0",
            "_view_count": null,
            "flex_flow": null,
            "width": null,
            "min_width": null,
            "border": null,
            "align_items": null,
            "bottom": null,
            "_model_module": "@jupyter-widgets/base",
            "top": null,
            "grid_column": null,
            "overflow_y": null,
            "overflow_x": null,
            "grid_auto_flow": null,
            "grid_area": null,
            "grid_template_columns": null,
            "flex": null,
            "_model_name": "LayoutModel",
            "justify_items": null,
            "grid_row": null,
            "max_height": null,
            "align_content": null,
            "visibility": null,
            "align_self": null,
            "height": null,
            "min_height": null,
            "padding": null,
            "grid_auto_rows": null,
            "grid_gap": null,
            "max_width": null,
            "order": null,
            "_view_module_version": "1.2.0",
            "grid_template_areas": null,
            "object_position": null,
            "object_fit": null,
            "grid_auto_columns": null,
            "margin": null,
            "display": null,
            "left": null
          }
        },
        "eb11bf1f2fd54c8ba66f78909fe965cf": {
          "model_module": "@jupyter-widgets/controls",
          "model_name": "FloatProgressModel",
          "state": {
            "_view_name": "ProgressView",
            "style": "IPY_MODEL_4ef683a7c7d548b8a59496dac2261d87",
            "_dom_classes": [],
            "description": "100%",
            "_model_name": "FloatProgressModel",
            "bar_style": "success",
            "max": 1073366784,
            "_view_module": "@jupyter-widgets/controls",
            "_model_module_version": "1.5.0",
            "value": 1073366784,
            "_view_count": null,
            "_view_module_version": "1.5.0",
            "orientation": "horizontal",
            "min": 0,
            "description_tooltip": null,
            "_model_module": "@jupyter-widgets/controls",
            "layout": "IPY_MODEL_d83da39ce35341f5a056ef26112c653e"
          }
        },
        "5051b2ebc6cc4063b83dda1552dd2754": {
          "model_module": "@jupyter-widgets/controls",
          "model_name": "HTMLModel",
          "state": {
            "_view_name": "HTMLView",
            "style": "IPY_MODEL_3351cc36e5e34f70a31c8921754eaa38",
            "_dom_classes": [],
            "description": "",
            "_model_name": "HTMLModel",
            "placeholder": "​",
            "_view_module": "@jupyter-widgets/controls",
            "_model_module_version": "1.5.0",
            "value": " 1.00G/1.00G [00:54&lt;00:00, 19.9MB/s]",
            "_view_count": null,
            "_view_module_version": "1.5.0",
            "description_tooltip": null,
            "_model_module": "@jupyter-widgets/controls",
            "layout": "IPY_MODEL_a705adf872e7414995fd44fe758a626d"
          }
        },
        "4ef683a7c7d548b8a59496dac2261d87": {
          "model_module": "@jupyter-widgets/controls",
          "model_name": "ProgressStyleModel",
          "state": {
            "_view_name": "StyleView",
            "_model_name": "ProgressStyleModel",
            "description_width": "initial",
            "_view_module": "@jupyter-widgets/base",
            "_model_module_version": "1.5.0",
            "_view_count": null,
            "_view_module_version": "1.2.0",
            "bar_color": null,
            "_model_module": "@jupyter-widgets/controls"
          }
        },
        "d83da39ce35341f5a056ef26112c653e": {
          "model_module": "@jupyter-widgets/base",
          "model_name": "LayoutModel",
          "state": {
            "_view_name": "LayoutView",
            "grid_template_rows": null,
            "right": null,
            "justify_content": null,
            "_view_module": "@jupyter-widgets/base",
            "overflow": null,
            "_model_module_version": "1.2.0",
            "_view_count": null,
            "flex_flow": null,
            "width": null,
            "min_width": null,
            "border": null,
            "align_items": null,
            "bottom": null,
            "_model_module": "@jupyter-widgets/base",
            "top": null,
            "grid_column": null,
            "overflow_y": null,
            "overflow_x": null,
            "grid_auto_flow": null,
            "grid_area": null,
            "grid_template_columns": null,
            "flex": null,
            "_model_name": "LayoutModel",
            "justify_items": null,
            "grid_row": null,
            "max_height": null,
            "align_content": null,
            "visibility": null,
            "align_self": null,
            "height": null,
            "min_height": null,
            "padding": null,
            "grid_auto_rows": null,
            "grid_gap": null,
            "max_width": null,
            "order": null,
            "_view_module_version": "1.2.0",
            "grid_template_areas": null,
            "object_position": null,
            "object_fit": null,
            "grid_auto_columns": null,
            "margin": null,
            "display": null,
            "left": null
          }
        },
        "3351cc36e5e34f70a31c8921754eaa38": {
          "model_module": "@jupyter-widgets/controls",
          "model_name": "DescriptionStyleModel",
          "state": {
            "_view_name": "StyleView",
            "_model_name": "DescriptionStyleModel",
            "description_width": "",
            "_view_module": "@jupyter-widgets/base",
            "_model_module_version": "1.5.0",
            "_view_count": null,
            "_view_module_version": "1.2.0",
            "_model_module": "@jupyter-widgets/controls"
          }
        },
        "a705adf872e7414995fd44fe758a626d": {
          "model_module": "@jupyter-widgets/base",
          "model_name": "LayoutModel",
          "state": {
            "_view_name": "LayoutView",
            "grid_template_rows": null,
            "right": null,
            "justify_content": null,
            "_view_module": "@jupyter-widgets/base",
            "overflow": null,
            "_model_module_version": "1.2.0",
            "_view_count": null,
            "flex_flow": null,
            "width": null,
            "min_width": null,
            "border": null,
            "align_items": null,
            "bottom": null,
            "_model_module": "@jupyter-widgets/base",
            "top": null,
            "grid_column": null,
            "overflow_y": null,
            "overflow_x": null,
            "grid_auto_flow": null,
            "grid_area": null,
            "grid_template_columns": null,
            "flex": null,
            "_model_name": "LayoutModel",
            "justify_items": null,
            "grid_row": null,
            "max_height": null,
            "align_content": null,
            "visibility": null,
            "align_self": null,
            "height": null,
            "min_height": null,
            "padding": null,
            "grid_auto_rows": null,
            "grid_gap": null,
            "max_width": null,
            "order": null,
            "_view_module_version": "1.2.0",
            "grid_template_areas": null,
            "object_position": null,
            "object_fit": null,
            "grid_auto_columns": null,
            "margin": null,
            "display": null,
            "left": null
          }
        }
      }
    },
    "accelerator": "GPU"
  },
  "cells": [
    {
      "cell_type": "markdown",
      "metadata": {
        "id": "udh8rdJ7nDDR"
      },
      "source": [
        "Copyright © 2021 MIT License | Sapozhnikov Andrey Mikhailovich\n",
        "\n",
        "**Tacotron2**  \n",
        "this notebook shows train and inference usage of [Tacotron2](https:///arxiv.org/pdf/1712.05884.pdf) model implementation by [NVIDIA](https://github.com/NVIDIA/tacotron2)\n",
        "\n",
        "Model repository: https://github.com/lightbooster/tacotron2/tree/russian-cleaners"
      ]
    },
    {
      "cell_type": "markdown",
      "metadata": {
        "id": "hMZaONSEcj6E"
      },
      "source": [
        "# Tacotron2"
      ]
    },
    {
      "cell_type": "markdown",
      "metadata": {
        "id": "3wED9pnYqD7l"
      },
      "source": [
        "## Prepair for training"
      ]
    },
    {
      "cell_type": "markdown",
      "metadata": {
        "id": "9GlQpcbbiCEq"
      },
      "source": [
        "Mount Google Drive to store all checkpoints and datasets"
      ]
    },
    {
      "cell_type": "code",
      "metadata": {
        "id": "eG7nvAsQkZvA",
        "colab": {
          "base_uri": "https://localhost:8080/"
        },
        "outputId": "ee261a4d-d645-4611-ad54-dc874257540a"
      },
      "source": [
        "from google.colab import drive\n",
        "drive.mount('/content/drive')"
      ],
      "execution_count": null,
      "outputs": [
        {
          "output_type": "stream",
          "text": [
            "Mounted at /content/drive\n"
          ],
          "name": "stdout"
        }
      ]
    },
    {
      "cell_type": "markdown",
      "metadata": {
        "id": "nZkZbi9NqMgg"
      },
      "source": [
        "### Download Dataset"
      ]
    },
    {
      "cell_type": "markdown",
      "metadata": {
        "id": "f3zjDRnpd4vU"
      },
      "source": [
        "Download LJ dataset"
      ]
    },
    {
      "cell_type": "code",
      "metadata": {
        "id": "Xr95OaEInL4l"
      },
      "source": [
        "# %cd /content/drive/MyDrive/\n",
        "# !wget https://data.keithito.com/data/speech/LJSpeech-1.1.tar.bz2\n",
        "# !tar -xf LJSpeech-1.1.tar.bz2"
      ],
      "execution_count": null,
      "outputs": []
    },
    {
      "cell_type": "markdown",
      "metadata": {
        "id": "mx6TC90xd61S"
      },
      "source": [
        "Download M-AILABS Russian dataset"
      ]
    },
    {
      "cell_type": "code",
      "metadata": {
        "id": "Zl8yezt3eFgO"
      },
      "source": [
        "# %cd /content/drive/MyDrive/\n",
        "# !wget http://www.caito.de/data/Training/stt_tts/ru_RU.tgz\n",
        "# !tar -zxvf ru_RU.tgz\n",
        "# # Rename directory\n",
        "# !mv ru_RU M_AILABS_Ru"
      ],
      "execution_count": null,
      "outputs": []
    },
    {
      "cell_type": "markdown",
      "metadata": {
        "id": "O4NUGxGwRI8q"
      },
      "source": [
        "### Preprocess Dataset\n"
      ]
    },
    {
      "cell_type": "code",
      "metadata": {
        "id": "GWOWZHleVY8C"
      },
      "source": [
        "import random"
      ],
      "execution_count": null,
      "outputs": []
    },
    {
      "cell_type": "code",
      "metadata": {
        "id": "qqU03n2uLhG7"
      },
      "source": [
        "\"\"\"\n",
        "Move all wav file to the common folder\n",
        "Concat all text files into one\n",
        "\"\"\"\n",
        "def refactor_M_AILABS(sex='female', speaker_index=0\n",
        "                      , dataset_dir=\"/content/drive/MyDrive/M_AILABS_Ru/\"\n",
        "                      , out_dir=\"/content/drive/MyDrive/M_AILABS_Ru/\"\n",
        "                      , move_files=True\n",
        "                      ):\n",
        "  print(\" *** Start refactoring... ***\")\n",
        "  path = f\"{dataset_dit}{''if dataset_dit[-1] == '/' else '/'}by_book/{sex}\"\n",
        "  %cd $path\n",
        "  speakers = !ls\n",
        "  books_path = f\"{path}/{speakers[speaker_index]}\"\n",
        "  %cd $books_path\n",
        "  books_folders = !ls -d */ | cut -f1 -d'/'\n",
        "  path = f\"{out_dir}{''if out_dir[-1] == '/' else '/'}\"\n",
        "  %cd $path\n",
        "  !mkdir wavs\n",
        "  wavs_path = f\"{path}wavs/\"\n",
        "  !touch mlbs_audio_text.txt\n",
        "  for book in books_folders:\n",
        "    cur_wavs_path = f\"{books_path}/{book}/wavs/*\"\n",
        "    cur_text_path = f\"{books_path}/{book}/metadata.csv\"\n",
        "    !cat $cur_text_path >> mlbs_audio_text.txt\n",
        "    if move_files:\n",
        "      !mv -v $cur_wavs_path $wavs_path\n",
        "  print(\" *** Refactoring finished! ***\")"
      ],
      "execution_count": null,
      "outputs": []
    },
    {
      "cell_type": "code",
      "metadata": {
        "id": "zMG7RXjQgTDE"
      },
      "source": [
        "# refactor_M_AILABS()"
      ],
      "execution_count": null,
      "outputs": []
    },
    {
      "cell_type": "code",
      "metadata": {
        "id": "WpPHm_uWJbkC"
      },
      "source": [
        "\"\"\"\n",
        "M-Ailabs dataset has 2 strings of audio trascription -\n",
        "raw and normalized\n",
        "This function chooose one, based on argument \n",
        "and add wav file full path\n",
        "\"\"\"\n",
        "def transform_m_ailabs_text(file_name=\"mlbs_audio_text.txt\",\n",
        "                            new_file_name=\"mlbs_audio_text_transformed.txt\",\n",
        "                            dataset_dir=\"/content/drive/MyDrive/M_AILABS_Ru/\",\n",
        "                            raw_data=False):\n",
        "  write_file = open(dataset_dir+new_file_name, 'w', encoding='utf-8')\n",
        "  with open(dataset_dir+file_name, 'r', encoding='utf-8') as read_file:\n",
        "    for line in read_file:\n",
        "      line = line.split('|')\n",
        "      wav_file_path = f\"{dataset_dir}wavs/{line[0]}.wav\"\n",
        "      new_line = f\"{wav_file_path}|{line[1] if raw_data else line[2]}\"\n",
        "      write_file.write(new_line)"
      ],
      "execution_count": null,
      "outputs": []
    },
    {
      "cell_type": "code",
      "metadata": {
        "id": "ssULM4fHMf1S"
      },
      "source": [
        "# transform_m_ailabs_text()"
      ],
      "execution_count": null,
      "outputs": []
    },
    {
      "cell_type": "code",
      "metadata": {
        "id": "LTgvTMpXJHvk"
      },
      "source": [
        "\"\"\"\n",
        "We should split data into 3 sets:\n",
        "'train', 'test' and 'eval'\n",
        "\"\"\"\n",
        "def split_dataset(test_size=0.05, eval_size=0.01,\n",
        "                  dataset_dir=\"/content/drive/MyDrive/M_AILABS_Ru/\",\n",
        "                  source_file_name=\"mlbs_audio_text_transformed.txt\",\n",
        "                  output_file_name_base=\"mlbs_audio_text\",\n",
        "                  shuffle=True):\n",
        "  if test_size + eval_size >= 1:\n",
        "    print(\"ERROR: (test_size + eval_size) must be less 1\")\n",
        "    return\n",
        "  \n",
        "  data = []\n",
        "  with open(f\"{dataset_dir}{source_file_name}\",\n",
        "            'r', encoding='utf-8') as read_file:\n",
        "    for line in read_file:\n",
        "      data.append(line)\n",
        "  \n",
        "  length = len(data)\n",
        "  test_length = int(length * test_size)\n",
        "  eval_length = int(length * eval_size)\n",
        "  if shuffle:\n",
        "    random.shuffle(data)\n",
        "  test_data = data[: test_length]\n",
        "  eval_data = data[test_length : test_length + eval_length]\n",
        "  train_data = data[test_length + eval_length :]\n",
        "\n",
        "  sets = {'test': test_data, 'eval': eval_data, 'train': train_data}\n",
        "  for name, dataset in sets.items():\n",
        "    with open(f\"{dataset_dir}{output_file_name_base}_{name}.txt\", \n",
        "              'w', encoding='utf-8') as file:\n",
        "      for line in dataset:\n",
        "        file.write(line)\n"
      ],
      "execution_count": null,
      "outputs": []
    },
    {
      "cell_type": "code",
      "metadata": {
        "id": "3KWsdrFDVjlP"
      },
      "source": [
        "# split_dataset(shuffle=False)"
      ],
      "execution_count": null,
      "outputs": []
    },
    {
      "cell_type": "markdown",
      "metadata": {
        "id": "KyxTCy-qqRTi"
      },
      "source": [
        "### Install libs"
      ]
    },
    {
      "cell_type": "code",
      "metadata": {
        "id": "xdjL7rb1qVC0"
      },
      "source": [
        "# !git clone https://github.com/NVIDIA/tacotron2.git"
      ],
      "execution_count": null,
      "outputs": []
    },
    {
      "cell_type": "code",
      "metadata": {
        "colab": {
          "base_uri": "https://localhost:8080/"
        },
        "id": "w2kpBbeUdN3c",
        "outputId": "91b3ec19-38f1-4cd8-ded3-8a834348286a"
      },
      "source": [
        "!git clone https://github.com/lightbooster/tacotron2.git\n",
        "%cd tacotron2\n",
        "!git checkout russian-cleaners"
      ],
      "execution_count": null,
      "outputs": [
        {
          "output_type": "stream",
          "text": [
            "Cloning into 'tacotron2'...\n",
            "remote: Enumerating objects: 416, done.\u001b[K\n",
            "remote: Counting objects: 100% (10/10), done.\u001b[K\n",
            "remote: Compressing objects: 100% (7/7), done.\u001b[K\n",
            "remote: Total 416 (delta 3), reused 6 (delta 3), pack-reused 406\u001b[K\n",
            "Receiving objects: 100% (416/416), 2.70 MiB | 9.87 MiB/s, done.\n",
            "Resolving deltas: 100% (208/208), done.\n",
            "/content/tacotron2\n",
            "Branch 'russian-cleaners' set up to track remote branch 'russian-cleaners' from 'origin'.\n",
            "Switched to a new branch 'russian-cleaners'\n"
          ],
          "name": "stdout"
        }
      ]
    },
    {
      "cell_type": "code",
      "metadata": {
        "id": "v-hhGBqqqkJg",
        "colab": {
          "base_uri": "https://localhost:8080/"
        },
        "outputId": "36c0b66f-3f08-4a23-babf-a8c6be92092c"
      },
      "source": [
        "%cd /content/tacotron2/"
      ],
      "execution_count": null,
      "outputs": [
        {
          "output_type": "stream",
          "text": [
            "/content/tacotron2\n"
          ],
          "name": "stdout"
        }
      ]
    },
    {
      "cell_type": "code",
      "metadata": {
        "id": "gH0DmEU-qm_H",
        "colab": {
          "base_uri": "https://localhost:8080/"
        },
        "outputId": "7d0ffeba-efd8-4a02-d9c5-f108f624e178"
      },
      "source": [
        "!git submodule init; git submodule update"
      ],
      "execution_count": null,
      "outputs": [
        {
          "output_type": "stream",
          "text": [
            "Submodule 'waveglow' (https://github.com/NVIDIA/waveglow) registered for path 'waveglow'\n",
            "Cloning into '/content/tacotron2/waveglow'...\n",
            "Submodule path 'waveglow': checked out '5bc2a53e20b3b533362f974cfa1ea0267ae1c2b1'\n"
          ],
          "name": "stdout"
        }
      ]
    },
    {
      "cell_type": "code",
      "metadata": {
        "id": "EH6ZNayDrld6"
      },
      "source": [
        "# %cd ..\n",
        "# !git clone https://github.com/NVIDIA/apex\n",
        "# %cd apex\n",
        "# !pip install -v --disable-pip-version-check --no-cache-dir --global-option=\"--cpp_ext\" --global-option=\"--cuda_ext\" ./\n",
        "# %cd ../tacotron2"
      ],
      "execution_count": null,
      "outputs": []
    },
    {
      "cell_type": "code",
      "metadata": {
        "colab": {
          "base_uri": "https://localhost:8080/"
        },
        "id": "frO-aSUHlXIb",
        "outputId": "660dd3de-197d-41af-fe79-e8c9823b3397"
      },
      "source": [
        "!cat requirements.txt"
      ],
      "execution_count": null,
      "outputs": [
        {
          "output_type": "stream",
          "text": [
            "matplotlib==2.1.0\n",
            "tensorflow==1.15.2\n",
            "numpy==1.13.3\n",
            "inflect==0.2.5\n",
            "librosa==0.6.0\n",
            "scipy==1.0.0\n",
            "Unidecode==1.0.22\n",
            "pillow\n"
          ],
          "name": "stdout"
        }
      ]
    },
    {
      "cell_type": "code",
      "metadata": {
        "id": "gkfnpIfmtgIQ",
        "colab": {
          "base_uri": "https://localhost:8080/"
        },
        "outputId": "1702f8fd-3579-49f6-aaad-5632593ee849"
      },
      "source": [
        "!pip install apex\n",
        "!pip install Unidecode\n",
        "!pip install tensorflow==1.15.2\n",
        "!pip install pysptk"
      ],
      "execution_count": null,
      "outputs": [
        {
          "output_type": "stream",
          "text": [
            "Collecting apex\n",
            "  Downloading https://files.pythonhosted.org/packages/31/b6/923de12ffcc2686157d7f74b96396b87c854eaaeec9d441d120facc2a0e0/apex-0.9.10dev.tar.gz\n",
            "Collecting cryptacular\n",
            "  Downloading https://files.pythonhosted.org/packages/ec/d6/a82d191ec058314b2b7cbee5635150f754ba1c6ffc05387bc9a57efe48b8/cryptacular-1.5.5.tar.gz\n",
            "  Installing build dependencies ... \u001b[?25l\u001b[?25hdone\n",
            "  Getting requirements to build wheel ... \u001b[?25l\u001b[?25hdone\n",
            "    Preparing wheel metadata ... \u001b[?25l\u001b[?25hdone\n",
            "Collecting zope.sqlalchemy\n",
            "  Downloading https://files.pythonhosted.org/packages/59/ab/0a19b1a931ea26346ef803bbf4db84ce8b30f5d64933204e92867c0f3b82/zope.sqlalchemy-1.4-py2.py3-none-any.whl\n",
            "Collecting velruse>=1.0.3\n",
            "\u001b[?25l  Downloading https://files.pythonhosted.org/packages/9c/d9/e18b5c98667c45f5dd1a256d72168ea5ff68f0025fc5b24be010f2696ca3/velruse-1.1.1.tar.gz (709kB)\n",
            "\u001b[K     |████████████████████████████████| 716kB 7.7MB/s \n",
            "\u001b[?25hCollecting pyramid>1.1.2\n",
            "\u001b[?25l  Downloading https://files.pythonhosted.org/packages/38/05/c75c59a1d8a3e44d3cb7d9ef9969bd4ff6dc18d860519dd1ef0cd547139f/pyramid-2.0-py3-none-any.whl (246kB)\n",
            "\u001b[K     |████████████████████████████████| 256kB 29.9MB/s \n",
            "\u001b[?25hCollecting pyramid_mailer\n",
            "  Downloading https://files.pythonhosted.org/packages/ea/c3/0ce593179a8da8e1ab7fe178b0ae096a046246bd44a5787f72940d6dd5b2/pyramid_mailer-0.15.1-py2.py3-none-any.whl\n",
            "Requirement already satisfied: requests in /usr/local/lib/python3.7/dist-packages (from apex) (2.23.0)\n",
            "Collecting wtforms\n",
            "\u001b[?25l  Downloading https://files.pythonhosted.org/packages/e0/31/614fc7dc7d76005b0acb8c0c8920d962b83d7422b4ba912886dfb63f86ff/WTForms-2.3.3-py2.py3-none-any.whl (169kB)\n",
            "\u001b[K     |████████████████████████████████| 174kB 24.9MB/s \n",
            "\u001b[?25hCollecting wtforms-recaptcha\n",
            "  Downloading https://files.pythonhosted.org/packages/5c/b0/42021ab061b768e3e5f430466219468c2afec99fe706e4340792d7a6fab4/wtforms_recaptcha-0.3.2-py2.py3-none-any.whl\n",
            "Requirement already satisfied: setuptools in /usr/local/lib/python3.7/dist-packages (from cryptacular->apex) (57.0.0)\n",
            "Collecting pbkdf2\n",
            "  Downloading https://files.pythonhosted.org/packages/02/c0/6a2376ae81beb82eda645a091684c0b0becb86b972def7849ea9066e3d5e/pbkdf2-1.3.tar.gz\n",
            "Collecting transaction>=1.6.0\n",
            "\u001b[?25l  Downloading https://files.pythonhosted.org/packages/9b/35/b5cca132f9b364066bea00cbf4ea466b7a15461a609ab9ba8e832e165452/transaction-3.0.1-py2.py3-none-any.whl (47kB)\n",
            "\u001b[K     |████████████████████████████████| 51kB 6.7MB/s \n",
            "\u001b[?25hCollecting zope.interface>=3.6.0\n",
            "\u001b[?25l  Downloading https://files.pythonhosted.org/packages/bb/a7/94e1a92c71436f934cdd2102826fa041c83dcb7d21dd0f1fb1a57f6e0620/zope.interface-5.4.0-cp37-cp37m-manylinux2010_x86_64.whl (251kB)\n",
            "\u001b[K     |████████████████████████████████| 256kB 40.0MB/s \n",
            "\u001b[?25hRequirement already satisfied: SQLAlchemy!=1.4.0,!=1.4.1,!=1.4.2,!=1.4.3,!=1.4.4,!=1.4.5,!=1.4.6,>=0.9 in /usr/local/lib/python3.7/dist-packages (from zope.sqlalchemy->apex) (1.4.15)\n",
            "Requirement already satisfied: requests-oauthlib in /usr/local/lib/python3.7/dist-packages (from velruse>=1.0.3->apex) (1.3.0)\n",
            "Collecting anykeystore\n",
            "  Downloading https://files.pythonhosted.org/packages/aa/dc/c4399c0e6b835710763705220f9c37681683f950678db799a5c7eda9e154/anykeystore-0.2.tar.gz\n",
            "Collecting python3-openid\n",
            "\u001b[?25l  Downloading https://files.pythonhosted.org/packages/e0/a5/c6ba13860bdf5525f1ab01e01cc667578d6f1efc8a1dba355700fb04c29b/python3_openid-3.2.0-py3-none-any.whl (133kB)\n",
            "\u001b[K     |████████████████████████████████| 143kB 33.6MB/s \n",
            "\u001b[?25hCollecting plaster-pastedeploy\n",
            "  Downloading https://files.pythonhosted.org/packages/11/c4/0470056ea324c7a420c22647be512dec1b5e32b1b6e77e27c61838d2811c/plaster_pastedeploy-0.7-py2.py3-none-any.whl\n",
            "Collecting zope.deprecation>=3.5.0\n",
            "  Downloading https://files.pythonhosted.org/packages/f9/26/b935bbf9d27e898b87d80e7873a0200cebf239253d0afe7a59f82fe90fff/zope.deprecation-4.4.0-py2.py3-none-any.whl\n",
            "Collecting hupper>=1.5\n",
            "  Downloading https://files.pythonhosted.org/packages/9a/cb/d30896ad0d288358bbae60576556df78422179fc08c630f863258a7800ea/hupper-1.10.3-py2.py3-none-any.whl\n",
            "Collecting plaster\n",
            "  Downloading https://files.pythonhosted.org/packages/61/29/3ac8a5d03b2d9e6b876385066676472ba4acf93677acfc7360b035503d49/plaster-1.0-py2.py3-none-any.whl\n",
            "Collecting webob>=1.8.3\n",
            "\u001b[?25l  Downloading https://files.pythonhosted.org/packages/62/9c/e94a9982e9f31fc35cf46cdc543a6c2c26cb7174635b5fd25b0bbc6a7bc0/WebOb-1.8.7-py2.py3-none-any.whl (114kB)\n",
            "\u001b[K     |████████████████████████████████| 122kB 35.4MB/s \n",
            "\u001b[?25hCollecting translationstring>=0.4\n",
            "  Downloading https://files.pythonhosted.org/packages/3b/98/36187601a15e3d37e9bfcf0e0e1055532b39d044353b06861c3a519737a9/translationstring-1.4-py2.py3-none-any.whl\n",
            "Collecting venusian>=1.0\n",
            "  Downloading https://files.pythonhosted.org/packages/43/92/3d522a710867168ee422a0ffbd712c425ece937aaeec4381497a59e24faf/venusian-3.0.0-py3-none-any.whl\n",
            "Collecting repoze.sendmail>=4.1\n",
            "\u001b[?25l  Downloading https://files.pythonhosted.org/packages/25/98/c5c64dc045b7c45858c391d04673a0f2748acef8e0eea4f2989b22220f97/repoze.sendmail-4.4.1-py2.py3-none-any.whl (41kB)\n",
            "\u001b[K     |████████████████████████████████| 51kB 6.3MB/s \n",
            "\u001b[?25hRequirement already satisfied: idna<3,>=2.5 in /usr/local/lib/python3.7/dist-packages (from requests->apex) (2.10)\n",
            "Requirement already satisfied: urllib3!=1.25.0,!=1.25.1,<1.26,>=1.21.1 in /usr/local/lib/python3.7/dist-packages (from requests->apex) (1.24.3)\n",
            "Requirement already satisfied: certifi>=2017.4.17 in /usr/local/lib/python3.7/dist-packages (from requests->apex) (2020.12.5)\n",
            "Requirement already satisfied: chardet<4,>=3.0.2 in /usr/local/lib/python3.7/dist-packages (from requests->apex) (3.0.4)\n",
            "Requirement already satisfied: MarkupSafe in /usr/local/lib/python3.7/dist-packages (from wtforms->apex) (2.0.1)\n",
            "Requirement already satisfied: importlib-metadata; python_version < \"3.8\" in /usr/local/lib/python3.7/dist-packages (from SQLAlchemy!=1.4.0,!=1.4.1,!=1.4.2,!=1.4.3,!=1.4.4,!=1.4.5,!=1.4.6,>=0.9->zope.sqlalchemy->apex) (4.0.1)\n",
            "Requirement already satisfied: greenlet!=0.4.17; python_version >= \"3\" in /usr/local/lib/python3.7/dist-packages (from SQLAlchemy!=1.4.0,!=1.4.1,!=1.4.2,!=1.4.3,!=1.4.4,!=1.4.5,!=1.4.6,>=0.9->zope.sqlalchemy->apex) (1.1.0)\n",
            "Requirement already satisfied: oauthlib>=3.0.0 in /usr/local/lib/python3.7/dist-packages (from requests-oauthlib->velruse>=1.0.3->apex) (3.1.0)\n",
            "Requirement already satisfied: defusedxml in /usr/local/lib/python3.7/dist-packages (from python3-openid->velruse>=1.0.3->apex) (0.7.1)\n",
            "Collecting PasteDeploy>=2.0\n",
            "  Downloading https://files.pythonhosted.org/packages/8f/0b/d47ea894587f3155f8c4520aa74d57c856189d0bbe27e831881d655a3386/PasteDeploy-2.1.1-py2.py3-none-any.whl\n",
            "Requirement already satisfied: zipp>=0.5 in /usr/local/lib/python3.7/dist-packages (from importlib-metadata; python_version < \"3.8\"->SQLAlchemy!=1.4.0,!=1.4.1,!=1.4.2,!=1.4.3,!=1.4.4,!=1.4.5,!=1.4.6,>=0.9->zope.sqlalchemy->apex) (3.4.1)\n",
            "Requirement already satisfied: typing-extensions>=3.6.4; python_version < \"3.8\" in /usr/local/lib/python3.7/dist-packages (from importlib-metadata; python_version < \"3.8\"->SQLAlchemy!=1.4.0,!=1.4.1,!=1.4.2,!=1.4.3,!=1.4.4,!=1.4.5,!=1.4.6,>=0.9->zope.sqlalchemy->apex) (3.7.4.3)\n",
            "Building wheels for collected packages: cryptacular\n",
            "  Building wheel for cryptacular (PEP 517) ... \u001b[?25l\u001b[?25hdone\n",
            "  Created wheel for cryptacular: filename=cryptacular-1.5.5-cp37-abi3-manylinux2010_x86_64.whl size=48275 sha256=0a27febe182017a06810b2d0b2fa343364e511ca679871f547a04068a8478faa\n",
            "  Stored in directory: /root/.cache/pip/wheels/3c/79/bc/1eec7120c3ff9b0a2c7ad94d1626abc3388688e2ed7a45878f\n",
            "Successfully built cryptacular\n",
            "Building wheels for collected packages: apex, velruse, pbkdf2, anykeystore\n",
            "  Building wheel for apex (setup.py) ... \u001b[?25l\u001b[?25hdone\n",
            "  Created wheel for apex: filename=apex-0.9.10.dev0-cp37-none-any.whl size=46468 sha256=f439277080aef8b167ba565fc4dc7c408b035be7322a795767d76696611de343\n",
            "  Stored in directory: /root/.cache/pip/wheels/39/4c/4b/2990cf86a29c679ae4bd5f4de5723aa8a4af107721089c9a55\n",
            "  Building wheel for velruse (setup.py) ... \u001b[?25l\u001b[?25hdone\n",
            "  Created wheel for velruse: filename=velruse-1.1.1-cp37-none-any.whl size=50938 sha256=a74ebd55abab1162b3f69262a7a7edf3ed5fa866709c9173e0f6148e18fbd841\n",
            "  Stored in directory: /root/.cache/pip/wheels/ca/65/9e/b805aad8ec3a359591c497b257dabe911f305d285b5d8a13cc\n",
            "  Building wheel for pbkdf2 (setup.py) ... \u001b[?25l\u001b[?25hdone\n",
            "  Created wheel for pbkdf2: filename=pbkdf2-1.3-cp37-none-any.whl size=5104 sha256=4a0d4e15bb85645a4108ded70c41fff6678f2f127ac42ef8ceb8a25b216a16ac\n",
            "  Stored in directory: /root/.cache/pip/wheels/8e/62/b9/0bf3a68f2111e169253ec4d2bbdc303c46777b7fc99bbbf230\n",
            "  Building wheel for anykeystore (setup.py) ... \u001b[?25l\u001b[?25hdone\n",
            "  Created wheel for anykeystore: filename=anykeystore-0.2-cp37-none-any.whl size=17044 sha256=d7b501e31e32fe7168e61ab13352e3a50fb74029d3554091606ebe750e25c28f\n",
            "  Stored in directory: /root/.cache/pip/wheels/42/a9/b2/f79f84cbee6613c9edce6d98b9e1410c1d41d38953bd94eed2\n",
            "Successfully built apex velruse pbkdf2 anykeystore\n",
            "Installing collected packages: pbkdf2, cryptacular, zope.interface, transaction, zope.sqlalchemy, PasteDeploy, plaster, plaster-pastedeploy, zope.deprecation, hupper, webob, translationstring, venusian, pyramid, anykeystore, python3-openid, velruse, repoze.sendmail, pyramid-mailer, wtforms, wtforms-recaptcha, apex\n",
            "Successfully installed PasteDeploy-2.1.1 anykeystore-0.2 apex-0.9.10.dev0 cryptacular-1.5.5 hupper-1.10.3 pbkdf2-1.3 plaster-1.0 plaster-pastedeploy-0.7 pyramid-2.0 pyramid-mailer-0.15.1 python3-openid-3.2.0 repoze.sendmail-4.4.1 transaction-3.0.1 translationstring-1.4 velruse-1.1.1 venusian-3.0.0 webob-1.8.7 wtforms-2.3.3 wtforms-recaptcha-0.3.2 zope.deprecation-4.4.0 zope.interface-5.4.0 zope.sqlalchemy-1.4\n",
            "Collecting Unidecode\n",
            "\u001b[?25l  Downloading https://files.pythonhosted.org/packages/9e/25/723487ca2a52ebcee88a34d7d1f5a4b80b793f179ee0f62d5371938dfa01/Unidecode-1.2.0-py2.py3-none-any.whl (241kB)\n",
            "\u001b[K     |████████████████████████████████| 245kB 4.1MB/s \n",
            "\u001b[?25hInstalling collected packages: Unidecode\n",
            "Successfully installed Unidecode-1.2.0\n",
            "Collecting tensorflow==1.15.2\n",
            "\u001b[?25l  Downloading https://files.pythonhosted.org/packages/5b/81/84fb7a323f9723f81edfc796d89e89aa95a9446ed7353c144195b3a3a3ba/tensorflow-1.15.2-cp37-cp37m-manylinux2010_x86_64.whl (110.5MB)\n",
            "\u001b[K     |████████████████████████████████| 110.5MB 94kB/s \n",
            "\u001b[?25hRequirement already satisfied: opt-einsum>=2.3.2 in /usr/local/lib/python3.7/dist-packages (from tensorflow==1.15.2) (3.3.0)\n",
            "Requirement already satisfied: protobuf>=3.6.1 in /usr/local/lib/python3.7/dist-packages (from tensorflow==1.15.2) (3.12.4)\n",
            "Requirement already satisfied: keras-preprocessing>=1.0.5 in /usr/local/lib/python3.7/dist-packages (from tensorflow==1.15.2) (1.1.2)\n",
            "Requirement already satisfied: six>=1.10.0 in /usr/local/lib/python3.7/dist-packages (from tensorflow==1.15.2) (1.15.0)\n",
            "Requirement already satisfied: wrapt>=1.11.1 in /usr/local/lib/python3.7/dist-packages (from tensorflow==1.15.2) (1.12.1)\n",
            "Requirement already satisfied: google-pasta>=0.1.6 in /usr/local/lib/python3.7/dist-packages (from tensorflow==1.15.2) (0.2.0)\n",
            "Collecting tensorflow-estimator==1.15.1\n",
            "\u001b[?25l  Downloading https://files.pythonhosted.org/packages/de/62/2ee9cd74c9fa2fa450877847ba560b260f5d0fb70ee0595203082dafcc9d/tensorflow_estimator-1.15.1-py2.py3-none-any.whl (503kB)\n",
            "\u001b[K     |████████████████████████████████| 512kB 31.3MB/s \n",
            "\u001b[?25hCollecting gast==0.2.2\n",
            "  Downloading https://files.pythonhosted.org/packages/4e/35/11749bf99b2d4e3cceb4d55ca22590b0d7c2c62b9de38ac4a4a7f4687421/gast-0.2.2.tar.gz\n",
            "Requirement already satisfied: numpy<2.0,>=1.16.0 in /usr/local/lib/python3.7/dist-packages (from tensorflow==1.15.2) (1.19.5)\n",
            "Requirement already satisfied: astor>=0.6.0 in /usr/local/lib/python3.7/dist-packages (from tensorflow==1.15.2) (0.8.1)\n",
            "Requirement already satisfied: termcolor>=1.1.0 in /usr/local/lib/python3.7/dist-packages (from tensorflow==1.15.2) (1.1.0)\n",
            "Collecting keras-applications>=1.0.8\n",
            "\u001b[?25l  Downloading https://files.pythonhosted.org/packages/71/e3/19762fdfc62877ae9102edf6342d71b28fbfd9dea3d2f96a882ce099b03f/Keras_Applications-1.0.8-py3-none-any.whl (50kB)\n",
            "\u001b[K     |████████████████████████████████| 51kB 5.5MB/s \n",
            "\u001b[?25hRequirement already satisfied: grpcio>=1.8.6 in /usr/local/lib/python3.7/dist-packages (from tensorflow==1.15.2) (1.34.1)\n",
            "Collecting tensorboard<1.16.0,>=1.15.0\n",
            "\u001b[?25l  Downloading https://files.pythonhosted.org/packages/1e/e9/d3d747a97f7188f48aa5eda486907f3b345cd409f0a0850468ba867db246/tensorboard-1.15.0-py3-none-any.whl (3.8MB)\n",
            "\u001b[K     |████████████████████████████████| 3.8MB 29.6MB/s \n",
            "\u001b[?25hRequirement already satisfied: wheel>=0.26; python_version >= \"3\" in /usr/local/lib/python3.7/dist-packages (from tensorflow==1.15.2) (0.36.2)\n",
            "Requirement already satisfied: absl-py>=0.7.0 in /usr/local/lib/python3.7/dist-packages (from tensorflow==1.15.2) (0.12.0)\n",
            "Requirement already satisfied: setuptools in /usr/local/lib/python3.7/dist-packages (from protobuf>=3.6.1->tensorflow==1.15.2) (57.0.0)\n",
            "Requirement already satisfied: h5py in /usr/local/lib/python3.7/dist-packages (from keras-applications>=1.0.8->tensorflow==1.15.2) (3.1.0)\n",
            "Requirement already satisfied: werkzeug>=0.11.15 in /usr/local/lib/python3.7/dist-packages (from tensorboard<1.16.0,>=1.15.0->tensorflow==1.15.2) (1.0.1)\n",
            "Requirement already satisfied: markdown>=2.6.8 in /usr/local/lib/python3.7/dist-packages (from tensorboard<1.16.0,>=1.15.0->tensorflow==1.15.2) (3.3.4)\n",
            "Requirement already satisfied: cached-property; python_version < \"3.8\" in /usr/local/lib/python3.7/dist-packages (from h5py->keras-applications>=1.0.8->tensorflow==1.15.2) (1.5.2)\n",
            "Requirement already satisfied: importlib-metadata; python_version < \"3.8\" in /usr/local/lib/python3.7/dist-packages (from markdown>=2.6.8->tensorboard<1.16.0,>=1.15.0->tensorflow==1.15.2) (4.0.1)\n",
            "Requirement already satisfied: typing-extensions>=3.6.4; python_version < \"3.8\" in /usr/local/lib/python3.7/dist-packages (from importlib-metadata; python_version < \"3.8\"->markdown>=2.6.8->tensorboard<1.16.0,>=1.15.0->tensorflow==1.15.2) (3.7.4.3)\n",
            "Requirement already satisfied: zipp>=0.5 in /usr/local/lib/python3.7/dist-packages (from importlib-metadata; python_version < \"3.8\"->markdown>=2.6.8->tensorboard<1.16.0,>=1.15.0->tensorflow==1.15.2) (3.4.1)\n",
            "Building wheels for collected packages: gast\n",
            "  Building wheel for gast (setup.py) ... \u001b[?25l\u001b[?25hdone\n",
            "  Created wheel for gast: filename=gast-0.2.2-cp37-none-any.whl size=7557 sha256=45b371060e40ba12290176229df99a33e55940b71e6ca89af72fa91b6a40893d\n",
            "  Stored in directory: /root/.cache/pip/wheels/5c/2e/7e/a1d4d4fcebe6c381f378ce7743a3ced3699feb89bcfbdadadd\n",
            "Successfully built gast\n",
            "\u001b[31mERROR: tensorflow-probability 0.12.1 has requirement gast>=0.3.2, but you'll have gast 0.2.2 which is incompatible.\u001b[0m\n",
            "\u001b[31mERROR: kapre 0.3.5 has requirement tensorflow>=2.0.0, but you'll have tensorflow 1.15.2 which is incompatible.\u001b[0m\n",
            "Installing collected packages: tensorflow-estimator, gast, keras-applications, tensorboard, tensorflow\n",
            "  Found existing installation: tensorflow-estimator 2.5.0\n",
            "    Uninstalling tensorflow-estimator-2.5.0:\n",
            "      Successfully uninstalled tensorflow-estimator-2.5.0\n",
            "  Found existing installation: gast 0.4.0\n",
            "    Uninstalling gast-0.4.0:\n",
            "      Successfully uninstalled gast-0.4.0\n",
            "  Found existing installation: tensorboard 2.5.0\n",
            "    Uninstalling tensorboard-2.5.0:\n",
            "      Successfully uninstalled tensorboard-2.5.0\n",
            "  Found existing installation: tensorflow 2.5.0\n",
            "    Uninstalling tensorflow-2.5.0:\n",
            "      Successfully uninstalled tensorflow-2.5.0\n",
            "Successfully installed gast-0.2.2 keras-applications-1.0.8 tensorboard-1.15.0 tensorflow-1.15.2 tensorflow-estimator-1.15.1\n",
            "Collecting pysptk\n",
            "\u001b[?25l  Downloading https://files.pythonhosted.org/packages/7c/25/4ea0932fbf0f1db42934b85011c1c825bcf57055ecde7e511f05e9fb9197/pysptk-0.1.18.tar.gz (419kB)\n",
            "\u001b[K     |████████████████████████████████| 419kB 4.3MB/s \n",
            "\u001b[?25hRequirement already satisfied: scipy in /usr/local/lib/python3.7/dist-packages (from pysptk) (1.4.1)\n",
            "Requirement already satisfied: six in /usr/local/lib/python3.7/dist-packages (from pysptk) (1.15.0)\n",
            "Requirement already satisfied: decorator in /usr/local/lib/python3.7/dist-packages (from pysptk) (4.4.2)\n",
            "Requirement already satisfied: numpy>=1.13.3 in /usr/local/lib/python3.7/dist-packages (from scipy->pysptk) (1.19.5)\n",
            "Building wheels for collected packages: pysptk\n",
            "  Building wheel for pysptk (setup.py) ... \u001b[?25l\u001b[?25hdone\n",
            "  Created wheel for pysptk: filename=pysptk-0.1.18-cp37-cp37m-linux_x86_64.whl size=951665 sha256=6c2c8e20b36e7433189d5c09f2c86e11db14077fd7b64faecb19dabe2ed484ee\n",
            "  Stored in directory: /root/.cache/pip/wheels/c7/96/d2/a163240019c59504402fab713af259026af81a99dea943404a\n",
            "Successfully built pysptk\n",
            "Installing collected packages: pysptk\n",
            "Successfully installed pysptk-0.1.18\n"
          ],
          "name": "stdout"
        }
      ]
    },
    {
      "cell_type": "markdown",
      "metadata": {
        "id": "dQjh8N1pe5WW"
      },
      "source": [
        "Change the dirrectory of wav files (for LJ dataset)"
      ]
    },
    {
      "cell_type": "code",
      "metadata": {
        "id": "zsUVqpSsqrsi"
      },
      "source": [
        "# !sed -i -- 's,DUMMY,../drive/MyDrive/LJSpeech-1.1/wavs,g' filelists/*.txt"
      ],
      "execution_count": null,
      "outputs": []
    },
    {
      "cell_type": "markdown",
      "metadata": {
        "id": "7Dn4kR_Bka13"
      },
      "source": [
        "## Train"
      ]
    },
    {
      "cell_type": "code",
      "metadata": {
        "colab": {
          "base_uri": "https://localhost:8080/"
        },
        "id": "bK3HnqZHiju8",
        "outputId": "ef42bc46-0e1a-4c60-99ff-c9074dda23f3"
      },
      "source": [
        "%cd /content/tacotron2/"
      ],
      "execution_count": null,
      "outputs": [
        {
          "output_type": "stream",
          "text": [
            "/content/tacotron2\n"
          ],
          "name": "stdout"
        }
      ]
    },
    {
      "cell_type": "markdown",
      "metadata": {
        "id": "vVNKrX6chFVm"
      },
      "source": [
        "### Hyperparams"
      ]
    },
    {
      "cell_type": "code",
      "metadata": {
        "id": "LIZGtNfMhIhj",
        "colab": {
          "base_uri": "https://localhost:8080/",
          "height": 69
        },
        "outputId": "5f63c103-9083-49fd-8588-3992ad583d93"
      },
      "source": [
        "home_dir = \"/content/drive/MyDrive/\"\n",
        "\n",
        "training_files = home_dir + \"M_AILABS_Ru/mlbs_audio_text_train.txt\"\n",
        "validation_files = home_dir + \"M_AILABS_Ru/mlbs_audio_text_eval.txt\"\n",
        "\n",
        "output_directory = home_dir + \"M_AILABS_Ru/checkpoints\"\n",
        "log_directory = \"../logs\"\n",
        "\n",
        "batch_size = 16\n",
        "iters_per_checkpoint = 2000\n",
        "sampling_rate = 16000\n",
        "\n",
        "hparams = f\"batch_size={batch_size},\\\n",
        "            iters_per_checkpoint={iters_per_checkpoint},\\\n",
        "            training_files={training_files},\\\n",
        "            validation_files={validation_files},\\\n",
        "            sampling_rate={sampling_rate}\"\n",
        "\n",
        "hparams"
      ],
      "execution_count": null,
      "outputs": [
        {
          "output_type": "execute_result",
          "data": {
            "application/vnd.google.colaboratory.intrinsic+json": {
              "type": "string"
            },
            "text/plain": [
              "'batch_size=16,            iters_per_checkpoint=2000,            training_files=/content/drive/MyDrive/M_AILABS_Ru/mlbs_audio_text_train.txt,            validation_files=/content/drive/MyDrive/M_AILABS_Ru/mlbs_audio_text_eval.txt,            sampling_rate=16000'"
            ]
          },
          "metadata": {
            "tags": []
          },
          "execution_count": 9
        }
      ]
    },
    {
      "cell_type": "markdown",
      "metadata": {
        "id": "9WG_YhAWh3OQ"
      },
      "source": [
        "### Pretrained weights"
      ]
    },
    {
      "cell_type": "markdown",
      "metadata": {
        "id": "v_qM0azaHD4G"
      },
      "source": [
        "NVIDEA checkpoint and deleted language weights"
      ]
    },
    {
      "cell_type": "code",
      "metadata": {
        "id": "Dmo5ccTyhzhp"
      },
      "source": [
        "# checkpoint_path = \"../drive/MyDrive/tacotron2_statedict.pt\"\n",
        "# !python train.py --output_directory=$output_directory --log_directory=$log_directory --hparams \"$hparams\" -c $checkpoint_path --warm_start"
      ],
      "execution_count": null,
      "outputs": []
    },
    {
      "cell_type": "markdown",
      "metadata": {
        "id": "gxYb8aq3HAq_"
      },
      "source": [
        "my checkpoint and saved weights"
      ]
    },
    {
      "cell_type": "code",
      "metadata": {
        "id": "015kGrurHJhh"
      },
      "source": [
        "checkpoint_num = 160000\n",
        "checkpoint_path = f\"/content/drive/MyDrive/M_AILABS_Ru/checkpoints/checkpoint_{checkpoint_num}\"\n",
        "!python train.py --output_directory=$output_directory --log_directory=$log_directory --hparams \"$hparams\" -c $checkpoint_path"
      ],
      "execution_count": null,
      "outputs": []
    },
    {
      "cell_type": "markdown",
      "metadata": {
        "id": "TDjCO8rwh96d"
      },
      "source": [
        "### From the start"
      ]
    },
    {
      "cell_type": "code",
      "metadata": {
        "id": "p8iofLnzcvMY"
      },
      "source": [
        "# !python train.py --output_directory=\"../logs\" --hparams \"batch_size=16, iters_per_checkpoint=300\" --checkpoint_path \"../drive/MyDrive/LJSpeech-1.1/checkpoints/checkpoint_100\""
      ],
      "execution_count": null,
      "outputs": []
    },
    {
      "cell_type": "markdown",
      "metadata": {
        "id": "lqtqmxIATYOp"
      },
      "source": [
        "## Eval"
      ]
    },
    {
      "cell_type": "code",
      "metadata": {
        "id": "eDKNe2tROeBh"
      },
      "source": [
        "import matplotlib\n",
        "import matplotlib.pylab as plt\n",
        "\n",
        "import IPython.display as ipd\n",
        "\n",
        "import sys\n",
        "sys.path.append('waveglow/')\n",
        "import numpy as np\n",
        "import torch\n",
        "\n",
        "from hparams import create_hparams\n",
        "from model import Tacotron2\n",
        "from layers import TacotronSTFT, STFT\n",
        "from audio_processing import griffin_lim\n",
        "from train import load_model\n",
        "from text import text_to_sequence\n",
        "from denoiser import Denoiser"
      ],
      "execution_count": null,
      "outputs": []
    },
    {
      "cell_type": "code",
      "metadata": {
        "id": "AbmD4ZmeOsD9"
      },
      "source": [
        "def plot_data(data, figsize=(16, 4)):\n",
        "    fig, axes = plt.subplots(1, len(data), figsize=figsize)\n",
        "    for i in range(len(data)):\n",
        "        axes[i].imshow(data[i], aspect='auto', origin='bottom', \n",
        "                       interpolation='none')"
      ],
      "execution_count": null,
      "outputs": []
    },
    {
      "cell_type": "markdown",
      "metadata": {
        "id": "lcIfaKHvVCMe"
      },
      "source": [
        "### WaveGlow"
      ]
    },
    {
      "cell_type": "code",
      "metadata": {
        "colab": {
          "base_uri": "https://localhost:8080/",
          "height": 120,
          "referenced_widgets": [
            "13413c41248c4af39a4c11b7d0539cf6",
            "55d42ea977fa49958a15467a94ea1342",
            "eb11bf1f2fd54c8ba66f78909fe965cf",
            "5051b2ebc6cc4063b83dda1552dd2754",
            "4ef683a7c7d548b8a59496dac2261d87",
            "d83da39ce35341f5a056ef26112c653e",
            "3351cc36e5e34f70a31c8921754eaa38",
            "a705adf872e7414995fd44fe758a626d"
          ]
        },
        "id": "F4L14EgJVD6s",
        "outputId": "cf8553f5-e0a0-4ea6-c764-458076ab313c"
      },
      "source": [
        "waveglow = torch.hub.load('nvidia/DeepLearningExamples:torchhub', 'nvidia_waveglow', pretrained=False)\n",
        "checkpoint = torch.hub.load_state_dict_from_url('https://api.ngc.nvidia.com/v2/models/nvidia/waveglow_ckpt_fp32/versions/19.09.0/files/nvidia_waveglowpyt_fp32_20190427')\n",
        "\n",
        "# # Unwrap the DistributedDataParallel module\n",
        "state_dict = {key.replace(\"module.\", \"\"): value for key, value in checkpoint[\"state_dict\"].items()}\n",
        "\n",
        "# # Apply the state dict to the model\n",
        "waveglow.load_state_dict(state_dict)\n",
        "waveglow = waveglow.remove_weightnorm(waveglow)\n",
        "waveglow = waveglow.to('cuda')\n",
        "_ = waveglow.eval()"
      ],
      "execution_count": null,
      "outputs": [
        {
          "output_type": "stream",
          "text": [
            "Downloading: \"https://github.com/nvidia/DeepLearningExamples/archive/torchhub.zip\" to /root/.cache/torch/hub/torchhub.zip\n",
            "Downloading: \"https://api.ngc.nvidia.com/v2/models/nvidia/waveglow_ckpt_fp32/versions/19.09.0/files/nvidia_waveglowpyt_fp32_20190427\" to /root/.cache/torch/hub/checkpoints/nvidia_waveglowpyt_fp32_20190427\n"
          ],
          "name": "stderr"
        },
        {
          "output_type": "display_data",
          "data": {
            "application/vnd.jupyter.widget-view+json": {
              "model_id": "13413c41248c4af39a4c11b7d0539cf6",
              "version_minor": 0,
              "version_major": 2
            },
            "text/plain": [
              "HBox(children=(FloatProgress(value=0.0, max=1073366784.0), HTML(value='')))"
            ]
          },
          "metadata": {
            "tags": []
          }
        },
        {
          "output_type": "stream",
          "text": [
            "\n"
          ],
          "name": "stdout"
        }
      ]
    },
    {
      "cell_type": "markdown",
      "metadata": {
        "id": "g0kadgTZryHj"
      },
      "source": [
        "### WaveNet"
      ]
    },
    {
      "cell_type": "code",
      "metadata": {
        "colab": {
          "base_uri": "https://localhost:8080/"
        },
        "id": "OuI-LYmtvFUH",
        "outputId": "7bb51e2d-a9c8-4719-d36a-f6c8f4ea6961"
      },
      "source": [
        "import torch\n",
        "import tensorflow\n",
        "import pysptk\n",
        "import numpy as np\n",
        "tensorflow.__version__, pysptk.__version__, np.__version__"
      ],
      "execution_count": null,
      "outputs": [
        {
          "output_type": "execute_result",
          "data": {
            "text/plain": [
              "('1.15.2', '0.1.18', '1.19.5')"
            ]
          },
          "metadata": {
            "tags": []
          },
          "execution_count": 10
        }
      ]
    },
    {
      "cell_type": "code",
      "metadata": {
        "colab": {
          "base_uri": "https://localhost:8080/"
        },
        "id": "DzgtXYv7rvws",
        "outputId": "0b7dbac4-7334-42e2-dda9-bf457ae62df3"
      },
      "source": [
        "%cd /content/\n",
        "from os.path import exists\n",
        "\n",
        "wn_preset = \"20180510_mixture_lj_checkpoint_step000320000_ema.json\"\n",
        "wn_checkpoint_path = \"20180510_mixture_lj_checkpoint_step000320000_ema.pth\"\n",
        "\n",
        "if not exists(wn_preset):\n",
        "  !curl -O -L \"https://www.dropbox.com/s/0vsd7973w20eskz/20180510_mixture_lj_checkpoint_step000320000_ema.json\"\n",
        "if not exists(wn_checkpoint_path):\n",
        "  !curl -O -L \"https://www.dropbox.com/s/zdbfprugbagfp2w/20180510_mixture_lj_checkpoint_step000320000_ema.pth\""
      ],
      "execution_count": null,
      "outputs": [
        {
          "output_type": "stream",
          "text": [
            "/content\n"
          ],
          "name": "stdout"
        }
      ]
    },
    {
      "cell_type": "code",
      "metadata": {
        "colab": {
          "base_uri": "https://localhost:8080/"
        },
        "id": "RSiPjgTqsA_L",
        "outputId": "fa025b90-b1c2-4107-c90e-214bf103ec44"
      },
      "source": [
        "%cd /content/\n",
        "import os\n",
        "from os.path import exists\n",
        "\n",
        "wavenet_dir = \"wavenet_vocoder\"\n",
        "if not exists(wavenet_dir):\n",
        "  ! git clone https://github.com/r9y9/$wavenet_dir\n",
        "  ! cd wavenet_vocoder && git checkout v0.1.1 && cd -"
      ],
      "execution_count": null,
      "outputs": [
        {
          "output_type": "stream",
          "text": [
            "/content\n"
          ],
          "name": "stdout"
        }
      ]
    },
    {
      "cell_type": "code",
      "metadata": {
        "colab": {
          "base_uri": "https://localhost:8080/",
          "height": 681
        },
        "id": "xGQXUbpTsXa4",
        "outputId": "daf86c7e-447f-45ac-f231-69f8710c4049"
      },
      "source": [
        "%cd /content/wavenet_vocoder/\n",
        "! pip install -q -e '.[train]'\n",
        "# Setup WaveNet vocoder hparams\n",
        "from hparams import hparams\n",
        "with open('/content/' + wn_preset) as f:\n",
        "    hparams.parse_json(f.read())\n",
        "\n",
        "# Setup WaveNet vocoder\n",
        "from train import build_model\n",
        "from synthesis import wavegen\n",
        "import torch\n",
        "\n",
        "use_cuda = torch.cuda.is_available()\n",
        "device = torch.device(\"cuda\" if use_cuda else \"cpu\")\n",
        "\n",
        "model = build_model().to(device)\n",
        "\n",
        "print(\"Load checkpoint from {}\".format('/content/' + wn_checkpoint_path))\n",
        "checkpoint = torch.load('/content/' + wn_checkpoint_path)\n",
        "model.load_state_dict(checkpoint[\"state_dict\"])"
      ],
      "execution_count": null,
      "outputs": [
        {
          "output_type": "stream",
          "text": [
            "/content/wavenet_vocoder\n",
            "\u001b[K     |████████████████████████████████| 122kB 15.0MB/s \n",
            "\u001b[K     |████████████████████████████████| 2.1MB 28.7MB/s \n",
            "\u001b[?25h  Installing build dependencies ... \u001b[?25l\u001b[?25hdone\n",
            "  Getting requirements to build wheel ... \u001b[?25l\u001b[?25hdone\n",
            "    Preparing wheel metadata ... \u001b[?25l\u001b[?25hdone\n",
            "\u001b[K     |████████████████████████████████| 153kB 47.9MB/s \n",
            "\u001b[?25h  Building wheel for nnmnkwii (PEP 517) ... \u001b[?25l\u001b[?25hdone\n",
            "  Building wheel for lws (setup.py) ... \u001b[?25l\u001b[?25hdone\n"
          ],
          "name": "stdout"
        },
        {
          "output_type": "error",
          "ename": "ImportError",
          "evalue": "ignored",
          "traceback": [
            "\u001b[0;31m---------------------------------------------------------------------------\u001b[0m",
            "\u001b[0;31mImportError\u001b[0m                               Traceback (most recent call last)",
            "\u001b[0;32m<ipython-input-14-23d7a3684dee>\u001b[0m in \u001b[0;36m<module>\u001b[0;34m()\u001b[0m\n\u001b[1;32m      7\u001b[0m \u001b[0;34m\u001b[0m\u001b[0m\n\u001b[1;32m      8\u001b[0m \u001b[0;31m# Setup WaveNet vocoder\u001b[0m\u001b[0;34m\u001b[0m\u001b[0;34m\u001b[0m\u001b[0;34m\u001b[0m\u001b[0m\n\u001b[0;32m----> 9\u001b[0;31m \u001b[0;32mfrom\u001b[0m \u001b[0mtrain\u001b[0m \u001b[0;32mimport\u001b[0m \u001b[0mbuild_model\u001b[0m\u001b[0;34m\u001b[0m\u001b[0;34m\u001b[0m\u001b[0m\n\u001b[0m\u001b[1;32m     10\u001b[0m \u001b[0;32mfrom\u001b[0m \u001b[0msynthesis\u001b[0m \u001b[0;32mimport\u001b[0m \u001b[0mwavegen\u001b[0m\u001b[0;34m\u001b[0m\u001b[0;34m\u001b[0m\u001b[0m\n\u001b[1;32m     11\u001b[0m \u001b[0;32mimport\u001b[0m \u001b[0mtorch\u001b[0m\u001b[0;34m\u001b[0m\u001b[0;34m\u001b[0m\u001b[0m\n",
            "\u001b[0;32m/content/wavenet_vocoder/train.py\u001b[0m in \u001b[0;36m<module>\u001b[0;34m()\u001b[0m\n\u001b[1;32m     48\u001b[0m \u001b[0;34m\u001b[0m\u001b[0m\n\u001b[1;32m     49\u001b[0m \u001b[0;32mfrom\u001b[0m \u001b[0msklearn\u001b[0m\u001b[0;34m.\u001b[0m\u001b[0mmodel_selection\u001b[0m \u001b[0;32mimport\u001b[0m \u001b[0mtrain_test_split\u001b[0m\u001b[0;34m\u001b[0m\u001b[0;34m\u001b[0m\u001b[0m\n\u001b[0;32m---> 50\u001b[0;31m \u001b[0;32mfrom\u001b[0m \u001b[0mkeras\u001b[0m\u001b[0;34m.\u001b[0m\u001b[0mutils\u001b[0m \u001b[0;32mimport\u001b[0m \u001b[0mnp_utils\u001b[0m\u001b[0;34m\u001b[0m\u001b[0;34m\u001b[0m\u001b[0m\n\u001b[0m\u001b[1;32m     51\u001b[0m \u001b[0;32mfrom\u001b[0m \u001b[0mtensorboardX\u001b[0m \u001b[0;32mimport\u001b[0m \u001b[0mSummaryWriter\u001b[0m\u001b[0;34m\u001b[0m\u001b[0;34m\u001b[0m\u001b[0m\n\u001b[1;32m     52\u001b[0m \u001b[0;32mfrom\u001b[0m \u001b[0mmatplotlib\u001b[0m \u001b[0;32mimport\u001b[0m \u001b[0mcm\u001b[0m\u001b[0;34m\u001b[0m\u001b[0;34m\u001b[0m\u001b[0m\n",
            "\u001b[0;32m/usr/local/lib/python3.7/dist-packages/keras/__init__.py\u001b[0m in \u001b[0;36m<module>\u001b[0;34m()\u001b[0m\n\u001b[1;32m     23\u001b[0m \u001b[0;34m\u001b[0m\u001b[0m\n\u001b[1;32m     24\u001b[0m \u001b[0;31m# See b/110718070#comment18 for more details about this import.\u001b[0m\u001b[0;34m\u001b[0m\u001b[0;34m\u001b[0m\u001b[0;34m\u001b[0m\u001b[0m\n\u001b[0;32m---> 25\u001b[0;31m \u001b[0;32mfrom\u001b[0m \u001b[0mkeras\u001b[0m \u001b[0;32mimport\u001b[0m \u001b[0mmodels\u001b[0m\u001b[0;34m\u001b[0m\u001b[0;34m\u001b[0m\u001b[0m\n\u001b[0m\u001b[1;32m     26\u001b[0m \u001b[0;34m\u001b[0m\u001b[0m\n\u001b[1;32m     27\u001b[0m \u001b[0;32mfrom\u001b[0m \u001b[0mkeras\u001b[0m\u001b[0;34m.\u001b[0m\u001b[0mengine\u001b[0m\u001b[0;34m.\u001b[0m\u001b[0minput_layer\u001b[0m \u001b[0;32mimport\u001b[0m \u001b[0mInput\u001b[0m\u001b[0;34m\u001b[0m\u001b[0;34m\u001b[0m\u001b[0m\n",
            "\u001b[0;32m/usr/local/lib/python3.7/dist-packages/keras/models.py\u001b[0m in \u001b[0;36m<module>\u001b[0;34m()\u001b[0m\n\u001b[1;32m     17\u001b[0m \u001b[0;34m\u001b[0m\u001b[0m\n\u001b[1;32m     18\u001b[0m \u001b[0;32mimport\u001b[0m \u001b[0mtensorflow\u001b[0m\u001b[0;34m.\u001b[0m\u001b[0mcompat\u001b[0m\u001b[0;34m.\u001b[0m\u001b[0mv2\u001b[0m \u001b[0;32mas\u001b[0m \u001b[0mtf\u001b[0m\u001b[0;34m\u001b[0m\u001b[0;34m\u001b[0m\u001b[0m\n\u001b[0;32m---> 19\u001b[0;31m \u001b[0;32mfrom\u001b[0m \u001b[0mkeras\u001b[0m \u001b[0;32mimport\u001b[0m \u001b[0mbackend\u001b[0m\u001b[0;34m\u001b[0m\u001b[0;34m\u001b[0m\u001b[0m\n\u001b[0m\u001b[1;32m     20\u001b[0m \u001b[0;32mfrom\u001b[0m \u001b[0mkeras\u001b[0m \u001b[0;32mimport\u001b[0m \u001b[0mmetrics\u001b[0m \u001b[0;32mas\u001b[0m \u001b[0mmetrics_module\u001b[0m\u001b[0;34m\u001b[0m\u001b[0;34m\u001b[0m\u001b[0m\n\u001b[1;32m     21\u001b[0m \u001b[0;32mfrom\u001b[0m \u001b[0mkeras\u001b[0m \u001b[0;32mimport\u001b[0m \u001b[0moptimizer_v1\u001b[0m\u001b[0;34m\u001b[0m\u001b[0;34m\u001b[0m\u001b[0m\n",
            "\u001b[0;32m/usr/local/lib/python3.7/dist-packages/keras/backend.py\u001b[0m in \u001b[0;36m<module>\u001b[0;34m()\u001b[0m\n\u001b[1;32m     35\u001b[0m \u001b[0;32mfrom\u001b[0m \u001b[0mtensorflow\u001b[0m\u001b[0;34m.\u001b[0m\u001b[0mpython\u001b[0m\u001b[0;34m.\u001b[0m\u001b[0mdistribute\u001b[0m \u001b[0;32mimport\u001b[0m \u001b[0mdistribute_coordinator\u001b[0m \u001b[0;32mas\u001b[0m \u001b[0mdc\u001b[0m\u001b[0;34m\u001b[0m\u001b[0;34m\u001b[0m\u001b[0m\n\u001b[1;32m     36\u001b[0m \u001b[0;32mfrom\u001b[0m \u001b[0mtensorflow\u001b[0m\u001b[0;34m.\u001b[0m\u001b[0mpython\u001b[0m\u001b[0;34m.\u001b[0m\u001b[0mdistribute\u001b[0m \u001b[0;32mimport\u001b[0m \u001b[0mdistribute_coordinator_context\u001b[0m \u001b[0;32mas\u001b[0m \u001b[0mdc_context\u001b[0m\u001b[0;34m\u001b[0m\u001b[0;34m\u001b[0m\u001b[0m\n\u001b[0;32m---> 37\u001b[0;31m \u001b[0;32mfrom\u001b[0m \u001b[0mtensorflow\u001b[0m\u001b[0;34m.\u001b[0m\u001b[0mpython\u001b[0m\u001b[0;34m.\u001b[0m\u001b[0meager\u001b[0m\u001b[0;34m.\u001b[0m\u001b[0mcontext\u001b[0m \u001b[0;32mimport\u001b[0m \u001b[0mget_config\u001b[0m\u001b[0;34m\u001b[0m\u001b[0;34m\u001b[0m\u001b[0m\n\u001b[0m\u001b[1;32m     38\u001b[0m \u001b[0;32mfrom\u001b[0m \u001b[0mtensorflow\u001b[0m\u001b[0;34m.\u001b[0m\u001b[0mpython\u001b[0m\u001b[0;34m.\u001b[0m\u001b[0mframework\u001b[0m \u001b[0;32mimport\u001b[0m \u001b[0mconfig\u001b[0m\u001b[0;34m\u001b[0m\u001b[0;34m\u001b[0m\u001b[0m\n\u001b[1;32m     39\u001b[0m \u001b[0;32mfrom\u001b[0m \u001b[0mkeras\u001b[0m \u001b[0;32mimport\u001b[0m \u001b[0mbackend_config\u001b[0m\u001b[0;34m\u001b[0m\u001b[0;34m\u001b[0m\u001b[0m\n",
            "\u001b[0;31mImportError\u001b[0m: cannot import name 'get_config' from 'tensorflow.python.eager.context' (/usr/local/lib/python3.7/dist-packages/tensorflow_core/python/eager/context.py)",
            "",
            "\u001b[0;31m---------------------------------------------------------------------------\u001b[0;32m\nNOTE: If your import is failing due to a missing package, you can\nmanually install dependencies using either !pip or !apt.\n\nTo view examples of installing some common dependencies, click the\n\"Open Examples\" button below.\n\u001b[0;31m---------------------------------------------------------------------------\u001b[0m\n"
          ]
        }
      ]
    },
    {
      "cell_type": "markdown",
      "metadata": {
        "id": "yF0vFu0LR3Ns"
      },
      "source": [
        "### Tacotron2"
      ]
    },
    {
      "cell_type": "code",
      "metadata": {
        "id": "KErM6zD497_W"
      },
      "source": [
        "# tacotron2 checkpoint url\n",
        "# https://api.ngc.nvidia.com/v2/models/nvidia/tacotron2_pyt_ckpt_fp32/versions/19.09.0/files/nvidia_tacotron2pyt_fp32_20190427"
      ],
      "execution_count": null,
      "outputs": []
    },
    {
      "cell_type": "code",
      "metadata": {
        "id": "TuUBTOXHUBtO",
        "colab": {
          "base_uri": "https://localhost:8080/",
          "height": 35
        },
        "outputId": "58543bc9-6479-40e8-c8d6-b41bb3ee662a"
      },
      "source": [
        "checkpoint_dir = \"../drive/MyDrive/M_AILABS_Ru/checkpoints/\"\n",
        "checkpoint_name = \"checkpoint_\"\n",
        "checkpoint_num = 48000\n",
        "checkpoint_path = checkpoint_dir + checkpoint_name + str(checkpoint_num)\n",
        "checkpoint_path"
      ],
      "execution_count": null,
      "outputs": [
        {
          "output_type": "execute_result",
          "data": {
            "application/vnd.google.colaboratory.intrinsic+json": {
              "type": "string"
            },
            "text/plain": [
              "'../drive/MyDrive/M_AILABS_Ru/checkpoints/checkpoint_48000'"
            ]
          },
          "metadata": {
            "tags": []
          },
          "execution_count": 13
        }
      ]
    },
    {
      "cell_type": "code",
      "metadata": {
        "id": "hlxmaJlPOxHM",
        "colab": {
          "base_uri": "https://localhost:8080/"
        },
        "outputId": "b98e89fc-e75b-44f5-9521-1066d80af3a7"
      },
      "source": [
        "hparams = create_hparams()\n",
        "hparams.sampling_rate = 16000\n",
        "hparams.gate_threshold = 0.505"
      ],
      "execution_count": null,
      "outputs": [
        {
          "output_type": "stream",
          "text": [
            "WARNING:tensorflow:\n",
            "The TensorFlow contrib module will not be included in TensorFlow 2.0.\n",
            "For more information, please see:\n",
            "  * https://github.com/tensorflow/community/blob/master/rfcs/20180907-contrib-sunset.md\n",
            "  * https://github.com/tensorflow/addons\n",
            "  * https://github.com/tensorflow/io (for I/O related ops)\n",
            "If you depend on functionality not listed there, please file an issue.\n",
            "\n"
          ],
          "name": "stdout"
        }
      ]
    },
    {
      "cell_type": "code",
      "metadata": {
        "id": "hmK7gwzgO2AN"
      },
      "source": [
        "model = load_model(hparams)\n",
        "model.load_state_dict(torch.load(checkpoint_path)['state_dict'])\n",
        "_ = model.cuda().eval()"
      ],
      "execution_count": null,
      "outputs": []
    },
    {
      "cell_type": "markdown",
      "metadata": {
        "id": "ujP1yev8BH8n"
      },
      "source": [
        "## Testing"
      ]
    },
    {
      "cell_type": "markdown",
      "metadata": {
        "id": "HHfFnyi8S3fp"
      },
      "source": [
        "### Load Mel spectogram from .npy file"
      ]
    },
    {
      "cell_type": "code",
      "metadata": {
        "colab": {
          "base_uri": "https://localhost:8080/"
        },
        "id": "f79mWlmjMPYQ",
        "outputId": "97938311-20e0-46bb-98c2-b449c908d3c7"
      },
      "source": [
        "mel_numpy = np.load('../mel-batch.npy')\n",
        "mel_numpy = np.array([mel_numpy.T])\n",
        "mel_numpy.shape"
      ],
      "execution_count": null,
      "outputs": [
        {
          "output_type": "execute_result",
          "data": {
            "text/plain": [
              "(1, 80, 344)"
            ]
          },
          "metadata": {
            "tags": []
          },
          "execution_count": 112
        }
      ]
    },
    {
      "cell_type": "code",
      "metadata": {
        "colab": {
          "base_uri": "https://localhost:8080/"
        },
        "id": "LPxkQsl8O2Bb",
        "outputId": "cf4687e6-f817-4d2f-e52c-12f2041ff440"
      },
      "source": [
        "cuda0 = torch.device('cuda:0')\n",
        "loaded_mel = torch.tensor(mel_numpy, device=cuda0)\n",
        "loaded_mel.shape"
      ],
      "execution_count": null,
      "outputs": [
        {
          "output_type": "execute_result",
          "data": {
            "text/plain": [
              "torch.Size([1, 80, 344])"
            ]
          },
          "metadata": {
            "tags": []
          },
          "execution_count": 113
        }
      ]
    },
    {
      "cell_type": "code",
      "metadata": {
        "id": "1RwrKeS6aAJV",
        "colab": {
          "base_uri": "https://localhost:8080/"
        },
        "outputId": "8f53ca2c-21f3-4d74-e682-1cfb921f6345"
      },
      "source": [
        "loaded_mel"
      ],
      "execution_count": null,
      "outputs": [
        {
          "output_type": "execute_result",
          "data": {
            "text/plain": [
              "tensor([[[-4.0000, -4.0000, -3.6913,  ..., -4.0000, -4.0000, -4.0000],\n",
              "         [-4.0000, -4.0000, -3.7051,  ..., -4.0000, -4.0000, -4.0000],\n",
              "         [-4.0000, -4.0000, -3.6722,  ..., -4.0000, -4.0000, -4.0000],\n",
              "         ...,\n",
              "         [-4.0000, -4.0000, -3.2077,  ..., -3.7250, -4.0000, -4.0000],\n",
              "         [-4.0000, -4.0000, -3.6254,  ..., -3.8110, -4.0000, -4.0000],\n",
              "         [-4.0000, -4.0000, -3.8463,  ..., -4.0000, -4.0000, -4.0000]]],\n",
              "       device='cuda:0')"
            ]
          },
          "metadata": {
            "tags": []
          },
          "execution_count": 120
        }
      ]
    },
    {
      "cell_type": "code",
      "metadata": {
        "id": "dK0eR4VcZjJj",
        "colab": {
          "base_uri": "https://localhost:8080/",
          "height": 265
        },
        "outputId": "6f64e104-3d4f-4f17-d2b7-23689ee24324"
      },
      "source": [
        "plt.imshow(loaded_mel.float().data.cpu().numpy()[0], \n",
        "       aspect='auto', origin='bottom', interpolation='none')\n",
        "plt.show()"
      ],
      "execution_count": null,
      "outputs": [
        {
          "output_type": "display_data",
          "data": {
            "image/png": "[encoded data removed]",
            "text/plain": [
              "<Figure size 432x288 with 1 Axes>"
            ]
          },
          "metadata": {
            "tags": [],
            "needs_background": "light"
          }
        }
      ]
    },
    {
      "cell_type": "markdown",
      "metadata": {
        "id": "V-4hNWB0TCQ0"
      },
      "source": [
        "### Inference"
      ]
    },
    {
      "cell_type": "code",
      "metadata": {
        "id": "BWvCbwA_BZio"
      },
      "source": [
        "text = \"люблю тебя. \""
      ],
      "execution_count": null,
      "outputs": []
    },
    {
      "cell_type": "code",
      "metadata": {
        "colab": {
          "base_uri": "https://localhost:8080/"
        },
        "id": "9TFuV51NBLSv",
        "outputId": "e8ee9bb9-90fd-4309-bda1-7d9932ddca5f"
      },
      "source": [
        "# preprocessing\n",
        "sequence = np.array(text_to_sequence(text, ['english_cleaners']))[None, :]\n",
        "sequence = torch.from_numpy(sequence).to(device='cuda', dtype=torch.int64)\n",
        "sequence"
      ],
      "execution_count": null,
      "outputs": [
        {
          "output_type": "execute_result",
          "data": {
            "text/plain": [
              "tensor([[49, 46, 58, 39, 49, 46, 58, 11, 57, 42, 39, 46, 38]], device='cuda:0')"
            ]
          },
          "metadata": {
            "tags": []
          },
          "execution_count": 44
        }
      ]
    },
    {
      "cell_type": "code",
      "metadata": {
        "id": "0PiY03B7InmI",
        "colab": {
          "base_uri": "https://localhost:8080/"
        },
        "outputId": "76bfcc85-cd2e-4599-e6ef-b3a487fa9889"
      },
      "source": [
        "# run the models\n",
        "mel_outputs = mel_outputs_postnet = alignments = None\n",
        "with torch.no_grad():\n",
        "    mel_outputs, mel_outputs_postnet, _, alignments = model.inference(sequence)\n",
        "    audio = waveglow.infer(mel_outputs_postnet)\n",
        "audio_numpy = audio[0].data.cpu().numpy()\n",
        "rate = 16000\n",
        "mel_outputs.shape"
      ],
      "execution_count": null,
      "outputs": [
        {
          "output_type": "execute_result",
          "data": {
            "text/plain": [
              "torch.Size([1, 80, 106])"
            ]
          },
          "metadata": {
            "tags": []
          },
          "execution_count": 50
        }
      ]
    },
    {
      "cell_type": "markdown",
      "metadata": {
        "id": "8EukVm1BYyTK"
      },
      "source": [
        "Visualize Mels"
      ]
    },
    {
      "cell_type": "code",
      "metadata": {
        "colab": {
          "base_uri": "https://localhost:8080/",
          "height": 265
        },
        "id": "416OiX7KQIn2",
        "outputId": "4cac8aeb-54ec-4c08-87a6-f0bbbc02ad21"
      },
      "source": [
        "%matplotlib inline\n",
        "plot_data((mel_outputs.float().data.cpu().numpy()[0],\n",
        "           mel_outputs_postnet.float().data.cpu().numpy()[0],\n",
        "           alignments.float().data.cpu().numpy()[0].T))\n",
        "plt.show()"
      ],
      "execution_count": null,
      "outputs": [
        {
          "output_type": "display_data",
          "data": {
            "image/png": "[encoded data removed]",
            "text/plain": [
              "<Figure size 1152x288 with 3 Axes>"
            ]
          },
          "metadata": {
            "tags": [],
            "needs_background": "light"
          }
        }
      ]
    },
    {
      "cell_type": "markdown",
      "metadata": {
        "id": "_MfXQzITYP7x"
      },
      "source": [
        "### Audio"
      ]
    },
    {
      "cell_type": "code",
      "metadata": {
        "colab": {
          "base_uri": "https://localhost:8080/",
          "height": 75
        },
        "id": "4xWkhyo4XmLR",
        "outputId": "4a070e79-3198-4905-d76d-2516fb49ecd3"
      },
      "source": [
        "with torch.no_grad():\n",
        "    audio = waveglow.infer(mel_outputs)\n",
        "audio_numpy = audio[0].data.cpu().numpy()\n",
        "rate = 22500\n",
        "ipd.Audio(audio_numpy, rate=rate)"
      ],
      "execution_count": null,
      "outputs": [
        {
          "output_type": "execute_result",
          "data": {
            "text/html": [
              "\n",
              "                <audio controls=\"controls\" >\n",
              "                    <source src=\"data:audio/wav;base64,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\" type=\"audio/wav\" />\n",
              "                    Your browser does not support the audio element.\n",
              "                </audio>\n",
              "              "
            ],
            "text/plain": [
              "<IPython.lib.display.Audio object>"
            ]
          },
          "metadata": {
            "tags": []
          },
          "execution_count": 53
        }
      ]
    }
  ]
}